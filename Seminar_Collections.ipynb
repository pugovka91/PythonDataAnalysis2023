{
 "cells": [
  {
   "cell_type": "markdown",
   "id": "ca7c9daf-4ee9-451a-a114-86a417a3939e",
   "metadata": {},
   "source": [
    "# Основы Python"
   ]
  },
  {
   "cell_type": "markdown",
   "id": "ad247fb9-84ad-492d-aa32-df22c72cff50",
   "metadata": {},
   "source": [
    "https://www.anaconda.com"
   ]
  },
  {
   "cell_type": "markdown",
   "id": "a4d7b366-1b91-4d23-8ca6-c176482600bc",
   "metadata": {},
   "source": [
    "https://docs.anaconda.com/anaconda/install/"
   ]
  },
  {
   "cell_type": "markdown",
   "id": "423d784d-173f-47ad-85ca-7786f558877f",
   "metadata": {},
   "source": [
    "https://docs.python.org/3.7/tutorial/index.html"
   ]
  },
  {
   "cell_type": "markdown",
   "id": "21c4afc0-d8fc-4510-a31b-e9e81127f097",
   "metadata": {},
   "source": [
    "https://colab.research.google.com/"
   ]
  },
  {
   "cell_type": "markdown",
   "id": "9e5bd36f-2ab3-4394-b429-20f74d114747",
   "metadata": {},
   "source": [
    "## Переменные"
   ]
  },
  {
   "cell_type": "code",
   "execution_count": 1,
   "id": "d01c61f9-83a0-49d7-a88e-5d43375c8fc6",
   "metadata": {},
   "outputs": [],
   "source": [
    "a = 5"
   ]
  },
  {
   "cell_type": "code",
   "execution_count": 3,
   "id": "2f62002e-d145-4e40-ad3c-59506ca44244",
   "metadata": {},
   "outputs": [
    {
     "data": {
      "text/plain": [
       "int"
      ]
     },
     "execution_count": 3,
     "metadata": {},
     "output_type": "execute_result"
    }
   ],
   "source": [
    "type(a)"
   ]
  },
  {
   "cell_type": "code",
   "execution_count": 62,
   "id": "8f5afbaf-37cb-49ee-b181-2fcf01f8048b",
   "metadata": {},
   "outputs": [
    {
     "data": {
      "text/plain": [
       "5"
      ]
     },
     "execution_count": 62,
     "metadata": {},
     "output_type": "execute_result"
    }
   ],
   "source": [
    "a"
   ]
  },
  {
   "cell_type": "code",
   "execution_count": 63,
   "id": "0a9fb2ae-e5b9-4491-9f0c-219e007e8b23",
   "metadata": {},
   "outputs": [
    {
     "data": {
      "text/plain": [
       "True"
      ]
     },
     "execution_count": 63,
     "metadata": {},
     "output_type": "execute_result"
    }
   ],
   "source": [
    "a == 5"
   ]
  },
  {
   "cell_type": "code",
   "execution_count": 64,
   "id": "348cb924-e76b-420a-9508-154ffa12932c",
   "metadata": {},
   "outputs": [
    {
     "data": {
      "text/plain": [
       "False"
      ]
     },
     "execution_count": 64,
     "metadata": {},
     "output_type": "execute_result"
    }
   ],
   "source": [
    "a < 3"
   ]
  },
  {
   "cell_type": "code",
   "execution_count": 123,
   "id": "0dbf9d90-3c84-45b6-a6f9-96820543cd2d",
   "metadata": {},
   "outputs": [],
   "source": [
    "a = 'str'"
   ]
  },
  {
   "cell_type": "code",
   "execution_count": 124,
   "id": "791719d9-cda8-4169-8ab2-b58768f80952",
   "metadata": {},
   "outputs": [
    {
     "ename": "TypeError",
     "evalue": "'<' not supported between instances of 'str' and 'int'",
     "output_type": "error",
     "traceback": [
      "\u001b[0;31m---------------------------------------------------------------------------\u001b[0m",
      "\u001b[0;31mTypeError\u001b[0m                                 Traceback (most recent call last)",
      "\u001b[0;32m/tmp/ipykernel_71237/2003711290.py\u001b[0m in \u001b[0;36m<module>\u001b[0;34m\u001b[0m\n\u001b[0;32m----> 1\u001b[0;31m \u001b[0ma\u001b[0m \u001b[0;34m<\u001b[0m \u001b[0;36m3\u001b[0m\u001b[0;34m\u001b[0m\u001b[0;34m\u001b[0m\u001b[0m\n\u001b[0m",
      "\u001b[0;31mTypeError\u001b[0m: '<' not supported between instances of 'str' and 'int'"
     ]
    }
   ],
   "source": [
    "a < 3"
   ]
  },
  {
   "cell_type": "code",
   "execution_count": 125,
   "id": "45e15da8-08b3-4a70-94d9-4d0fdd6ee20b",
   "metadata": {},
   "outputs": [
    {
     "data": {
      "text/plain": [
       "False"
      ]
     },
     "execution_count": 125,
     "metadata": {},
     "output_type": "execute_result"
    }
   ],
   "source": [
    "a < 'int' < 'float'"
   ]
  },
  {
   "cell_type": "code",
   "execution_count": 127,
   "id": "46cc0349-4827-471f-a515-309b8ab5c3cd",
   "metadata": {},
   "outputs": [
    {
     "data": {
      "text/plain": [
       "True"
      ]
     },
     "execution_count": 127,
     "metadata": {},
     "output_type": "execute_result"
    }
   ],
   "source": [
    "a in 'string' or 'integer'"
   ]
  },
  {
   "cell_type": "markdown",
   "id": "274a925f-f2ad-4c37-bd5b-471aa3b1db3d",
   "metadata": {},
   "source": [
    "## Конструкции if-else"
   ]
  },
  {
   "cell_type": "code",
   "execution_count": 67,
   "id": "9a928db9-599e-4e7c-8be4-f01454e6c4c5",
   "metadata": {},
   "outputs": [],
   "source": [
    "a = 5"
   ]
  },
  {
   "cell_type": "code",
   "execution_count": 68,
   "id": "9c340012-feb3-41a5-b41f-1cd7de51fe27",
   "metadata": {},
   "outputs": [
    {
     "name": "stdout",
     "output_type": "stream",
     "text": [
      "Five!\n"
     ]
    }
   ],
   "source": [
    "if a == 10:\n",
    "    print('Ten!')\n",
    "elif a == 5:\n",
    "    print('Five!')\n",
    "else:\n",
    "    print('Don\\'t know!')"
   ]
  },
  {
   "cell_type": "markdown",
   "id": "6f7183fe-9f52-4801-98dd-676c34c7a859",
   "metadata": {
    "tags": []
   },
   "source": [
    "## Список - list"
   ]
  },
  {
   "cell_type": "code",
   "execution_count": 117,
   "id": "99fe940c-89ca-46e8-a111-bb4fa5cf9e27",
   "metadata": {},
   "outputs": [],
   "source": [
    "l = [0, 1, 1, 2, 3, 5, 8, 13]"
   ]
  },
  {
   "cell_type": "code",
   "execution_count": 2,
   "id": "ba8b94ea-cf92-4750-9439-02136606a01a",
   "metadata": {},
   "outputs": [
    {
     "data": {
      "text/plain": [
       "3"
      ]
     },
     "execution_count": 2,
     "metadata": {},
     "output_type": "execute_result"
    }
   ],
   "source": [
    "#обратиться к элементу по индексу\n",
    "l[3]"
   ]
  },
  {
   "cell_type": "code",
   "execution_count": 3,
   "id": "4288de8d-db63-418b-9c0c-bdc8678c6057",
   "metadata": {
    "collapsed": true,
    "jupyter": {
     "outputs_hidden": true
    },
    "tags": []
   },
   "outputs": [
    {
     "ename": "IndexError",
     "evalue": "list index out of range",
     "output_type": "error",
     "traceback": [
      "\u001b[0;31m---------------------------------------------------------------------------\u001b[0m",
      "\u001b[0;31mIndexError\u001b[0m                                Traceback (most recent call last)",
      "\u001b[0;32m/tmp/ipykernel_71237/2604111257.py\u001b[0m in \u001b[0;36m<module>\u001b[0;34m\u001b[0m\n\u001b[0;32m----> 1\u001b[0;31m \u001b[0ml\u001b[0m\u001b[0;34m[\u001b[0m\u001b[0;36m10\u001b[0m\u001b[0;34m]\u001b[0m\u001b[0;34m\u001b[0m\u001b[0;34m\u001b[0m\u001b[0m\n\u001b[0m",
      "\u001b[0;31mIndexError\u001b[0m: list index out of range"
     ]
    }
   ],
   "source": [
    "l[10]"
   ]
  },
  {
   "cell_type": "code",
   "execution_count": 4,
   "id": "ad8d74cc-dc46-4e88-b065-d5f44995640b",
   "metadata": {},
   "outputs": [
    {
     "data": {
      "text/plain": [
       "13"
      ]
     },
     "execution_count": 4,
     "metadata": {},
     "output_type": "execute_result"
    }
   ],
   "source": [
    "l[-1]"
   ]
  },
  {
   "cell_type": "code",
   "execution_count": 5,
   "id": "3e143214-459c-471a-9a53-970486865789",
   "metadata": {},
   "outputs": [
    {
     "data": {
      "text/plain": [
       "[3, 5, 8, 13]"
      ]
     },
     "execution_count": 5,
     "metadata": {},
     "output_type": "execute_result"
    }
   ],
   "source": [
    "#slices\n",
    "l[3:]"
   ]
  },
  {
   "cell_type": "code",
   "execution_count": 6,
   "id": "12c237c4-1682-4cba-a64b-998116fb18cb",
   "metadata": {},
   "outputs": [
    {
     "data": {
      "text/plain": [
       "[2, 3]"
      ]
     },
     "execution_count": 6,
     "metadata": {},
     "output_type": "execute_result"
    }
   ],
   "source": [
    "l[2:4]"
   ]
  },
  {
   "cell_type": "code",
   "execution_count": 7,
   "id": "17b554fc-7431-45f1-899e-bdac9b9fc30a",
   "metadata": {},
   "outputs": [
    {
     "data": {
      "text/plain": [
       "[2, 3, 5, 8, 13]"
      ]
     },
     "execution_count": 7,
     "metadata": {},
     "output_type": "execute_result"
    }
   ],
   "source": [
    "l[-5:]"
   ]
  },
  {
   "cell_type": "code",
   "execution_count": null,
   "id": "09327f06-5311-4dab-93df-acdbdc7c053f",
   "metadata": {},
   "outputs": [],
   "source": [
    "#слияние списков"
   ]
  },
  {
   "cell_type": "code",
   "execution_count": 8,
   "id": "dab444ec-a142-4101-ae7d-2416bc2cb4f7",
   "metadata": {},
   "outputs": [],
   "source": [
    "#без изменения текущих списков\n",
    "l1 = [1, 2, 3, 5]\n",
    "l2 = [10, 11]"
   ]
  },
  {
   "cell_type": "code",
   "execution_count": 9,
   "id": "90c018c9-30a0-43fa-bddc-c9b95621b33e",
   "metadata": {},
   "outputs": [],
   "source": [
    "l = l1 + l2"
   ]
  },
  {
   "cell_type": "code",
   "execution_count": 10,
   "id": "f99a613d-3886-4783-b9fe-e5d333c9354a",
   "metadata": {},
   "outputs": [
    {
     "data": {
      "text/plain": [
       "[1, 2, 3, 5, 10, 11]"
      ]
     },
     "execution_count": 10,
     "metadata": {},
     "output_type": "execute_result"
    }
   ],
   "source": [
    "l"
   ]
  },
  {
   "cell_type": "code",
   "execution_count": 11,
   "id": "10d534d7-adeb-46ff-9c06-78caa136c3c3",
   "metadata": {},
   "outputs": [],
   "source": [
    "#с изменением текущих списков\n",
    "l1.extend(l2)"
   ]
  },
  {
   "cell_type": "code",
   "execution_count": 12,
   "id": "fa80d070-25ad-4947-9847-0cbd1902aafc",
   "metadata": {},
   "outputs": [
    {
     "data": {
      "text/plain": [
       "[1, 2, 3, 5, 10, 11]"
      ]
     },
     "execution_count": 12,
     "metadata": {},
     "output_type": "execute_result"
    }
   ],
   "source": [
    "l1"
   ]
  },
  {
   "cell_type": "code",
   "execution_count": 19,
   "id": "9b225766-dd77-443f-8ef1-e248968e3301",
   "metadata": {},
   "outputs": [
    {
     "data": {
      "text/plain": [
       "[1, 2, 3, 5, 10, 11, 'a', 'b', 'Harry Potter']"
      ]
     },
     "execution_count": 19,
     "metadata": {},
     "output_type": "execute_result"
    }
   ],
   "source": [
    "l1 + ['a', 'b', 'Harry Potter']"
   ]
  },
  {
   "cell_type": "code",
   "execution_count": 13,
   "id": "d5d7057b-a5ea-465d-8d88-9712375dfe6e",
   "metadata": {},
   "outputs": [
    {
     "data": {
      "text/plain": [
       "[1, 4, 9, 25, 100, 121]"
      ]
     },
     "execution_count": 13,
     "metadata": {},
     "output_type": "execute_result"
    }
   ],
   "source": [
    "#изменить текущий список единым образом\n",
    "[x**2 for x in l]"
   ]
  },
  {
   "cell_type": "code",
   "execution_count": 18,
   "id": "e169a371-a309-4c2c-b9ff-1779a2294665",
   "metadata": {},
   "outputs": [
    {
     "data": {
      "text/plain": [
       "['1', '2', '3', '5', '10', '11', '5']"
      ]
     },
     "execution_count": 18,
     "metadata": {},
     "output_type": "execute_result"
    }
   ],
   "source": [
    "[str(x) for x in l]"
   ]
  },
  {
   "cell_type": "code",
   "execution_count": 14,
   "id": "82817e21-a598-410b-acb6-0c58e4960a08",
   "metadata": {},
   "outputs": [
    {
     "data": {
      "text/plain": [
       "3"
      ]
     },
     "execution_count": 14,
     "metadata": {},
     "output_type": "execute_result"
    }
   ],
   "source": [
    "#найти индекс по значению\n",
    "l.index(5)"
   ]
  },
  {
   "cell_type": "code",
   "execution_count": 15,
   "id": "3e4363fe-45fb-4bcf-88ea-107e005b1012",
   "metadata": {},
   "outputs": [],
   "source": [
    "#добавить элемент\n",
    "l.append(5)"
   ]
  },
  {
   "cell_type": "code",
   "execution_count": 16,
   "id": "a9445117-c546-4590-8472-dfe0f379dde1",
   "metadata": {},
   "outputs": [
    {
     "data": {
      "text/plain": [
       "3"
      ]
     },
     "execution_count": 16,
     "metadata": {},
     "output_type": "execute_result"
    }
   ],
   "source": [
    "l.index(5)"
   ]
  },
  {
   "cell_type": "code",
   "execution_count": 55,
   "id": "435ee987-9e70-44e0-9369-971c8944f9c5",
   "metadata": {},
   "outputs": [],
   "source": [
    "#удалить элемент\n",
    "del l[3]"
   ]
  },
  {
   "cell_type": "code",
   "execution_count": 56,
   "id": "a06894f7-1991-4f38-99fd-a96a0ed1488f",
   "metadata": {},
   "outputs": [
    {
     "data": {
      "text/plain": [
       "[1, 2, 3, 10, 11, 5]"
      ]
     },
     "execution_count": 56,
     "metadata": {},
     "output_type": "execute_result"
    }
   ],
   "source": [
    "l"
   ]
  },
  {
   "cell_type": "code",
   "execution_count": null,
   "id": "849af38d-d35e-4352-a747-eee4e787e935",
   "metadata": {},
   "outputs": [],
   "source": [
    "#отсортировать лист"
   ]
  },
  {
   "cell_type": "code",
   "execution_count": 57,
   "id": "3c516afa-c138-4a56-8b22-b2d78029b814",
   "metadata": {},
   "outputs": [],
   "source": [
    "l.sort()"
   ]
  },
  {
   "cell_type": "code",
   "execution_count": 58,
   "id": "cd096622-fe36-4feb-bada-7f5d3e42258d",
   "metadata": {},
   "outputs": [
    {
     "data": {
      "text/plain": [
       "[1, 2, 3, 5, 10, 11]"
      ]
     },
     "execution_count": 58,
     "metadata": {},
     "output_type": "execute_result"
    }
   ],
   "source": [
    "l"
   ]
  },
  {
   "cell_type": "code",
   "execution_count": null,
   "id": "c29740f5-9b13-42f4-9655-d75ad136279f",
   "metadata": {},
   "outputs": [],
   "source": [
    "#вернуть эелемент с последующим удалением"
   ]
  },
  {
   "cell_type": "code",
   "execution_count": 59,
   "id": "8ff92ee8-4900-41ed-a7b2-ff32a79b2730",
   "metadata": {},
   "outputs": [
    {
     "data": {
      "text/plain": [
       "10"
      ]
     },
     "execution_count": 59,
     "metadata": {},
     "output_type": "execute_result"
    }
   ],
   "source": [
    "l.pop(4)"
   ]
  },
  {
   "cell_type": "code",
   "execution_count": 60,
   "id": "e1afd0ce-1766-40a3-959f-16ab0aaf23e9",
   "metadata": {},
   "outputs": [
    {
     "data": {
      "text/plain": [
       "[1, 2, 3, 5, 11]"
      ]
     },
     "execution_count": 60,
     "metadata": {},
     "output_type": "execute_result"
    }
   ],
   "source": [
    "l"
   ]
  },
  {
   "cell_type": "markdown",
   "id": "d2447c28-7bde-421a-9bfb-12382e651979",
   "metadata": {},
   "source": [
    "## Кортеж - tuple"
   ]
  },
  {
   "cell_type": "markdown",
   "id": "41e5f29c-76c1-4d79-8e78-a0d68d0ee611",
   "metadata": {},
   "source": [
    "tuple, list - sequence data types"
   ]
  },
  {
   "cell_type": "code",
   "execution_count": 38,
   "id": "ee8feda5-a25b-469a-b358-7854523e53e9",
   "metadata": {},
   "outputs": [],
   "source": [
    "t = 'a', 'b'"
   ]
  },
  {
   "cell_type": "code",
   "execution_count": 39,
   "id": "8e8e25c8-0b77-41bf-b3c4-ca7e4a72a93b",
   "metadata": {},
   "outputs": [
    {
     "data": {
      "text/plain": [
       "('a', 'b')"
      ]
     },
     "execution_count": 39,
     "metadata": {},
     "output_type": "execute_result"
    }
   ],
   "source": [
    "t"
   ]
  },
  {
   "cell_type": "code",
   "execution_count": 40,
   "id": "1e730877-5bb9-473e-ad90-50f478929f16",
   "metadata": {},
   "outputs": [],
   "source": [
    "t = 'harry', "
   ]
  },
  {
   "cell_type": "code",
   "execution_count": 41,
   "id": "06fac1dd-5b94-46b0-882f-015cf5a4b00a",
   "metadata": {},
   "outputs": [
    {
     "data": {
      "text/plain": [
       "('harry',)"
      ]
     },
     "execution_count": 41,
     "metadata": {},
     "output_type": "execute_result"
    }
   ],
   "source": [
    "t"
   ]
  },
  {
   "cell_type": "code",
   "execution_count": 52,
   "id": "5893192b-a814-4aef-9b37-33549040182f",
   "metadata": {},
   "outputs": [],
   "source": [
    "t1 = 'harry',\n",
    "t2 = 'ron',"
   ]
  },
  {
   "cell_type": "code",
   "execution_count": 53,
   "id": "115bc0ab-93a4-4d94-9c45-86401b88b31d",
   "metadata": {},
   "outputs": [],
   "source": [
    "t = t1, t2"
   ]
  },
  {
   "cell_type": "code",
   "execution_count": 54,
   "id": "adf508a2-8ce6-44f0-84c3-3fe5b6be6ff5",
   "metadata": {},
   "outputs": [
    {
     "data": {
      "text/plain": [
       "(('harry',), ('ron',))"
      ]
     },
     "execution_count": 54,
     "metadata": {},
     "output_type": "execute_result"
    }
   ],
   "source": [
    "t"
   ]
  },
  {
   "cell_type": "markdown",
   "id": "7156c376-cae1-4936-ae6a-6c62111e247e",
   "metadata": {},
   "source": [
    "## Множество - set"
   ]
  },
  {
   "cell_type": "code",
   "execution_count": 20,
   "id": "4d75121b-1dbd-49f0-b7b1-4a452efb1014",
   "metadata": {},
   "outputs": [
    {
     "data": {
      "text/plain": [
       "[1, 2, 3, 5, 10, 11, 5]"
      ]
     },
     "execution_count": 20,
     "metadata": {},
     "output_type": "execute_result"
    }
   ],
   "source": [
    "l"
   ]
  },
  {
   "cell_type": "code",
   "execution_count": 21,
   "id": "2c44dd89-35c1-45f3-9590-c190cc700b3d",
   "metadata": {},
   "outputs": [],
   "source": [
    "#создание множества\n",
    "s = set(l)"
   ]
  },
  {
   "cell_type": "code",
   "execution_count": 23,
   "id": "258036e4-469d-4fe5-a34f-522d492c4058",
   "metadata": {},
   "outputs": [
    {
     "data": {
      "text/plain": [
       "{1, 2, 3, 5, 10, 11}"
      ]
     },
     "execution_count": 23,
     "metadata": {},
     "output_type": "execute_result"
    }
   ],
   "source": [
    "s"
   ]
  },
  {
   "cell_type": "code",
   "execution_count": 24,
   "id": "d56d03d2-e262-4739-b1f7-280466fa4aba",
   "metadata": {},
   "outputs": [],
   "source": [
    "s = {'a', 'b', 'c', 'a', 'b'}"
   ]
  },
  {
   "cell_type": "code",
   "execution_count": 25,
   "id": "9fa46f71-26e3-401e-8d74-7a02d1d66425",
   "metadata": {},
   "outputs": [
    {
     "data": {
      "text/plain": [
       "{'a', 'b', 'c'}"
      ]
     },
     "execution_count": 25,
     "metadata": {},
     "output_type": "execute_result"
    }
   ],
   "source": [
    "s"
   ]
  },
  {
   "cell_type": "code",
   "execution_count": null,
   "id": "5ea12676-d177-4da9-879c-5a7031c0aa10",
   "metadata": {},
   "outputs": [],
   "source": [
    "#добавить элементы"
   ]
  },
  {
   "cell_type": "code",
   "execution_count": 26,
   "id": "24882282-6e39-45d0-b556-57ee75734281",
   "metadata": {},
   "outputs": [],
   "source": [
    "s.add('d')"
   ]
  },
  {
   "cell_type": "code",
   "execution_count": 27,
   "id": "54315d3f-bedf-4122-8d63-08728b6d1eb3",
   "metadata": {},
   "outputs": [
    {
     "data": {
      "text/plain": [
       "{'a', 'b', 'c', 'd'}"
      ]
     },
     "execution_count": 27,
     "metadata": {},
     "output_type": "execute_result"
    }
   ],
   "source": [
    "s"
   ]
  },
  {
   "cell_type": "code",
   "execution_count": 30,
   "id": "6bcf0b5b-89c5-434f-9bd5-8c4f6cb0e7fe",
   "metadata": {},
   "outputs": [],
   "source": [
    "s.update(['a', 'e'])"
   ]
  },
  {
   "cell_type": "code",
   "execution_count": 31,
   "id": "6d30ec19-d044-44cd-aadf-b701db9a6a1b",
   "metadata": {},
   "outputs": [
    {
     "data": {
      "text/plain": [
       "{'a', 'b', 'c', 'd', 'e'}"
      ]
     },
     "execution_count": 31,
     "metadata": {},
     "output_type": "execute_result"
    }
   ],
   "source": [
    "s"
   ]
  },
  {
   "cell_type": "code",
   "execution_count": 37,
   "id": "20343b08-e035-4f1f-81ab-daa002935e4e",
   "metadata": {},
   "outputs": [],
   "source": [
    "#другие операции со множествами"
   ]
  },
  {
   "cell_type": "code",
   "execution_count": 32,
   "id": "8d9ec6f5-a435-414b-b0bc-670796addfe9",
   "metadata": {},
   "outputs": [],
   "source": [
    "s1 = set(['Harry', 'Hermion', 'Ron'])\n",
    "s2 = set(['Ron', 'Ginny', 'Molly', 'Arthur'])"
   ]
  },
  {
   "cell_type": "code",
   "execution_count": 33,
   "id": "180e3220-05d9-4cc8-aa9d-fa9db6eebefd",
   "metadata": {},
   "outputs": [
    {
     "data": {
      "text/plain": [
       "{'Ron'}"
      ]
     },
     "execution_count": 33,
     "metadata": {},
     "output_type": "execute_result"
    }
   ],
   "source": [
    "s1&s2"
   ]
  },
  {
   "cell_type": "code",
   "execution_count": 34,
   "id": "0839ee27-7f1f-4845-9247-8d3b23934783",
   "metadata": {},
   "outputs": [
    {
     "data": {
      "text/plain": [
       "{'Harry', 'Hermion'}"
      ]
     },
     "execution_count": 34,
     "metadata": {},
     "output_type": "execute_result"
    }
   ],
   "source": [
    "s1-s2"
   ]
  },
  {
   "cell_type": "code",
   "execution_count": 35,
   "id": "1673d402-879d-459c-9ad8-a054f2e98ff9",
   "metadata": {},
   "outputs": [
    {
     "data": {
      "text/plain": [
       "{'Arthur', 'Ginny', 'Harry', 'Hermion', 'Molly', 'Ron'}"
      ]
     },
     "execution_count": 35,
     "metadata": {},
     "output_type": "execute_result"
    }
   ],
   "source": [
    "s1|s2"
   ]
  },
  {
   "cell_type": "code",
   "execution_count": 36,
   "id": "46daa49a-fca2-4828-ac11-0894166dcb83",
   "metadata": {},
   "outputs": [
    {
     "data": {
      "text/plain": [
       "{'Arthur', 'Ginny', 'Harry', 'Hermion', 'Molly'}"
      ]
     },
     "execution_count": 36,
     "metadata": {},
     "output_type": "execute_result"
    }
   ],
   "source": [
    "s1^s2"
   ]
  },
  {
   "cell_type": "markdown",
   "id": "4343ebf4-a6bb-4616-8425-878d538a557c",
   "metadata": {},
   "source": [
    "## Словарь - dict"
   ]
  },
  {
   "cell_type": "code",
   "execution_count": 70,
   "id": "4a53b8c4-3f2c-469e-9405-b3b045a50625",
   "metadata": {},
   "outputs": [],
   "source": [
    "# создание словаря\n",
    "d = {\n",
    "    \"Harry\" : \"Potter\",\n",
    "    \"Ron\" : \"Weasley\",\n",
    "    \"Hermione\" : \"Granger\", \n",
    "    \"Ginny\" : \"Weasley\",\n",
    "    \"Severus\" : \"Snape\"\n",
    "}"
   ]
  },
  {
   "cell_type": "code",
   "execution_count": 77,
   "id": "52a5749b-0c21-4f99-bb11-19982105d747",
   "metadata": {},
   "outputs": [],
   "source": [
    "d = dict(\n",
    "    [\n",
    "        (\"Harry\", \"Potter\"),\n",
    "        (\"Ron\", \"Weasley\"),\n",
    "        (\"Hermione\", \"Granger\"), \n",
    "        (\"Ginny\", \"Weasley\"),\n",
    "        (\"Severus\", \"Snape\")\n",
    "    ]\n",
    ")"
   ]
  },
  {
   "cell_type": "code",
   "execution_count": 78,
   "id": "187795b4-7351-42d0-baa4-9fd438fd9ad9",
   "metadata": {},
   "outputs": [
    {
     "data": {
      "text/plain": [
       "{'Harry': 'Potter',\n",
       " 'Ron': 'Weasley',\n",
       " 'Hermione': 'Granger',\n",
       " 'Ginny': 'Weasley',\n",
       " 'Severus': 'Snape'}"
      ]
     },
     "execution_count": 78,
     "metadata": {},
     "output_type": "execute_result"
    }
   ],
   "source": [
    "d"
   ]
  },
  {
   "cell_type": "code",
   "execution_count": 85,
   "id": "08f80607-228d-4409-b671-bd930c4f4eae",
   "metadata": {},
   "outputs": [],
   "source": [
    "d = dict(zip(['Harry', 'Ron', 'Hermione', 'Ginny', 'Severus'], ['Potter', 'Weasley', 'Granger', 'Weasley', 'Snape']))"
   ]
  },
  {
   "cell_type": "code",
   "execution_count": 86,
   "id": "2aecdb01-2e60-4f65-8fc6-cc46969ca02a",
   "metadata": {},
   "outputs": [
    {
     "data": {
      "text/plain": [
       "{'Harry': 'Potter',\n",
       " 'Ron': 'Weasley',\n",
       " 'Hermione': 'Granger',\n",
       " 'Ginny': 'Weasley',\n",
       " 'Severus': 'Snape'}"
      ]
     },
     "execution_count": 86,
     "metadata": {},
     "output_type": "execute_result"
    }
   ],
   "source": [
    "d"
   ]
  },
  {
   "cell_type": "code",
   "execution_count": 87,
   "id": "4e423f3b-0988-4b3c-91f6-be20e28314d1",
   "metadata": {},
   "outputs": [],
   "source": [
    "#ключи и значения"
   ]
  },
  {
   "cell_type": "code",
   "execution_count": 88,
   "id": "c5b1decd-8cb1-4112-8c6d-637f22bf57d4",
   "metadata": {},
   "outputs": [
    {
     "data": {
      "text/plain": [
       "'Weasley'"
      ]
     },
     "execution_count": 88,
     "metadata": {},
     "output_type": "execute_result"
    }
   ],
   "source": [
    "d['Ron']"
   ]
  },
  {
   "cell_type": "code",
   "execution_count": 89,
   "id": "e2a8928d-fea6-4f79-b9f3-ef2feb733bf4",
   "metadata": {},
   "outputs": [
    {
     "data": {
      "text/plain": [
       "dict_keys(['Harry', 'Ron', 'Hermione', 'Ginny', 'Severus'])"
      ]
     },
     "execution_count": 89,
     "metadata": {},
     "output_type": "execute_result"
    }
   ],
   "source": [
    "d.keys()"
   ]
  },
  {
   "cell_type": "code",
   "execution_count": 90,
   "id": "10f2de39-762f-4d1a-b3dc-5373b9778c73",
   "metadata": {},
   "outputs": [
    {
     "data": {
      "text/plain": [
       "dict_values(['Potter', 'Weasley', 'Granger', 'Weasley', 'Snape'])"
      ]
     },
     "execution_count": 90,
     "metadata": {},
     "output_type": "execute_result"
    }
   ],
   "source": [
    "d.values()"
   ]
  },
  {
   "cell_type": "code",
   "execution_count": 91,
   "id": "1a2ee464-4e5a-4f9f-9e65-5db4ef1763a9",
   "metadata": {},
   "outputs": [],
   "source": [
    "#операции со словарем"
   ]
  },
  {
   "cell_type": "code",
   "execution_count": 92,
   "id": "34e6a619-32b7-4365-aa9b-55d0af940def",
   "metadata": {},
   "outputs": [],
   "source": [
    "d_add = {\n",
    "    \"Molly\" : \"Weasley\",\n",
    "    \"Arthur\" : \"Weasley\"\n",
    "}"
   ]
  },
  {
   "cell_type": "code",
   "execution_count": 93,
   "id": "13fd5c85-8779-4a13-a422-bc60a2ff8238",
   "metadata": {},
   "outputs": [],
   "source": [
    "d.update(d_add)"
   ]
  },
  {
   "cell_type": "code",
   "execution_count": 94,
   "id": "2d107741-651b-4de3-9139-bac52a83e2e0",
   "metadata": {},
   "outputs": [
    {
     "data": {
      "text/plain": [
       "{'Harry': 'Potter',\n",
       " 'Ron': 'Weasley',\n",
       " 'Hermione': 'Granger',\n",
       " 'Ginny': 'Weasley',\n",
       " 'Severus': 'Snape',\n",
       " 'Molly': 'Weasley',\n",
       " 'Arthur': 'Weasley'}"
      ]
     },
     "execution_count": 94,
     "metadata": {},
     "output_type": "execute_result"
    }
   ],
   "source": [
    "d"
   ]
  },
  {
   "cell_type": "code",
   "execution_count": 95,
   "id": "ea9c72ca-2745-43bb-893c-8de55801d417",
   "metadata": {},
   "outputs": [],
   "source": [
    "d_add = {\n",
    "    \"Ginny\" : \"Potter\"\n",
    "}"
   ]
  },
  {
   "cell_type": "code",
   "execution_count": 96,
   "id": "8592e1af-253c-4cef-971e-478899184be8",
   "metadata": {},
   "outputs": [],
   "source": [
    "d.update(d_add)"
   ]
  },
  {
   "cell_type": "code",
   "execution_count": 97,
   "id": "37baf34b-073c-4dcf-901b-5ebe8ef8e35e",
   "metadata": {},
   "outputs": [
    {
     "data": {
      "text/plain": [
       "{'Harry': 'Potter',\n",
       " 'Ron': 'Weasley',\n",
       " 'Hermione': 'Granger',\n",
       " 'Ginny': 'Potter',\n",
       " 'Severus': 'Snape',\n",
       " 'Molly': 'Weasley',\n",
       " 'Arthur': 'Weasley'}"
      ]
     },
     "execution_count": 97,
     "metadata": {},
     "output_type": "execute_result"
    }
   ],
   "source": [
    "d"
   ]
  },
  {
   "cell_type": "code",
   "execution_count": 98,
   "id": "5e8338b6-2632-4fed-bf2d-3e91e957fc47",
   "metadata": {},
   "outputs": [
    {
     "data": {
      "text/plain": [
       "'Weasley'"
      ]
     },
     "execution_count": 98,
     "metadata": {},
     "output_type": "execute_result"
    }
   ],
   "source": [
    "d.pop(\"Ron\")"
   ]
  },
  {
   "cell_type": "code",
   "execution_count": 99,
   "id": "7ebd7dda-8af7-48f9-88ee-9e7fa8e1c2ec",
   "metadata": {},
   "outputs": [
    {
     "data": {
      "text/plain": [
       "{'Harry': 'Potter',\n",
       " 'Hermione': 'Granger',\n",
       " 'Ginny': 'Potter',\n",
       " 'Severus': 'Snape',\n",
       " 'Molly': 'Weasley',\n",
       " 'Arthur': 'Weasley'}"
      ]
     },
     "execution_count": 99,
     "metadata": {},
     "output_type": "execute_result"
    }
   ],
   "source": [
    "d"
   ]
  },
  {
   "cell_type": "code",
   "execution_count": 100,
   "id": "cfad716d-6b3a-4cc3-8669-10d596a7e93e",
   "metadata": {},
   "outputs": [
    {
     "data": {
      "text/plain": [
       "('Arthur', 'Weasley')"
      ]
     },
     "execution_count": 100,
     "metadata": {},
     "output_type": "execute_result"
    }
   ],
   "source": [
    "d.popitem()"
   ]
  },
  {
   "cell_type": "code",
   "execution_count": 101,
   "id": "92f3565d-75dc-4d84-94cb-bf67625fe696",
   "metadata": {},
   "outputs": [
    {
     "data": {
      "text/plain": [
       "{'Harry': 'Potter',\n",
       " 'Hermione': 'Granger',\n",
       " 'Ginny': 'Potter',\n",
       " 'Severus': 'Snape',\n",
       " 'Molly': 'Weasley'}"
      ]
     },
     "execution_count": 101,
     "metadata": {},
     "output_type": "execute_result"
    }
   ],
   "source": [
    "d"
   ]
  },
  {
   "cell_type": "code",
   "execution_count": 102,
   "id": "52d6c166-a2cc-4b46-90c9-0beec753e4e0",
   "metadata": {},
   "outputs": [
    {
     "data": {
      "text/plain": [
       "5"
      ]
     },
     "execution_count": 102,
     "metadata": {},
     "output_type": "execute_result"
    }
   ],
   "source": [
    "len(d)"
   ]
  },
  {
   "cell_type": "markdown",
   "id": "d039677d-1f73-4870-ad31-40eca1c16c69",
   "metadata": {},
   "source": [
    "## Циклы"
   ]
  },
  {
   "cell_type": "code",
   "execution_count": 103,
   "id": "5ef26f12-8500-4a62-82de-1db830f310dd",
   "metadata": {},
   "outputs": [
    {
     "name": "stdout",
     "output_type": "stream",
     "text": [
      "Potter\n",
      "Granger\n",
      "Potter\n",
      "Snape\n",
      "Weasley\n"
     ]
    }
   ],
   "source": [
    "for k in d.keys():\n",
    "    print(d[k])"
   ]
  },
  {
   "cell_type": "code",
   "execution_count": 114,
   "id": "b8cb8094-b01c-40f3-a3be-02c4676e3748",
   "metadata": {},
   "outputs": [
    {
     "name": "stdout",
     "output_type": "stream",
     "text": [
      "0 Harry\n",
      "1 Hermione\n",
      "2 Ginny\n",
      "3 Severus\n",
      "4 Molly\n"
     ]
    }
   ],
   "source": [
    "for i, k in enumerate(d.keys()):\n",
    "    print(i, k)"
   ]
  },
  {
   "cell_type": "code",
   "execution_count": 112,
   "id": "3d92e882-3e4c-4d96-87ac-ea013621f15b",
   "metadata": {},
   "outputs": [
    {
     "name": "stdout",
     "output_type": "stream",
     "text": [
      "Harry Potter\n",
      "Hermione Granger\n",
      "Ginny Potter\n",
      "Severus Snape\n",
      "Molly Weasley\n"
     ]
    }
   ],
   "source": [
    "for k, v in d.items():\n",
    "    print(k, v)"
   ]
  },
  {
   "cell_type": "code",
   "execution_count": 139,
   "id": "380bac02-6c03-4d48-aa8e-94fc2181c107",
   "metadata": {},
   "outputs": [],
   "source": [
    "#flatten nested list\n",
    "\n",
    "l_nested = [[0, 1], [1, 2, 3], [5, 8, 13, 21]]"
   ]
  },
  {
   "cell_type": "code",
   "execution_count": 141,
   "id": "701bdca0-32fe-438b-816b-a0ae44f431e1",
   "metadata": {},
   "outputs": [],
   "source": [
    "l_flatten = [x for y in l_nested for x in y]"
   ]
  },
  {
   "cell_type": "code",
   "execution_count": 142,
   "id": "60376cf4-efa2-45ec-8005-6b3a0c5fee40",
   "metadata": {},
   "outputs": [
    {
     "data": {
      "text/plain": [
       "[0, 1, 1, 2, 3, 5, 8, 13, 21]"
      ]
     },
     "execution_count": 142,
     "metadata": {},
     "output_type": "execute_result"
    }
   ],
   "source": [
    "l_flatten"
   ]
  },
  {
   "cell_type": "markdown",
   "id": "29d2dd1e-8d94-4c7b-9654-4bd615b64358",
   "metadata": {},
   "source": [
    "## Некоторые операции со строками"
   ]
  },
  {
   "cell_type": "code",
   "execution_count": 128,
   "id": "fda6c9e6-61e6-4105-bd6f-b928094b8aa4",
   "metadata": {},
   "outputs": [],
   "source": [
    "s = \"Hello world!\""
   ]
  },
  {
   "cell_type": "code",
   "execution_count": 129,
   "id": "c990ec35-5c04-4218-aadb-35ef7f2f32fa",
   "metadata": {},
   "outputs": [
    {
     "data": {
      "text/plain": [
       "'l'"
      ]
     },
     "execution_count": 129,
     "metadata": {},
     "output_type": "execute_result"
    }
   ],
   "source": [
    "#элемент строки\n",
    "s[-3]"
   ]
  },
  {
   "cell_type": "code",
   "execution_count": 130,
   "id": "e67c17f5-5eed-4800-88d1-bed246819328",
   "metadata": {},
   "outputs": [
    {
     "data": {
      "text/plain": [
       "'ell'"
      ]
     },
     "execution_count": 130,
     "metadata": {},
     "output_type": "execute_result"
    }
   ],
   "source": [
    "#slice\n",
    "s[1:4]"
   ]
  },
  {
   "cell_type": "code",
   "execution_count": 131,
   "id": "73ab6707-50f4-44de-8405-8fa77a73fafa",
   "metadata": {},
   "outputs": [
    {
     "data": {
      "text/plain": [
       "['Hello', 'world!']"
      ]
     },
     "execution_count": 131,
     "metadata": {},
     "output_type": "execute_result"
    }
   ],
   "source": [
    "#split\n",
    "s.split(' ')"
   ]
  },
  {
   "cell_type": "code",
   "execution_count": 133,
   "id": "ce3545ff-f577-4969-864f-92b4ee64d126",
   "metadata": {},
   "outputs": [
    {
     "data": {
      "text/plain": [
       "2"
      ]
     },
     "execution_count": 133,
     "metadata": {},
     "output_type": "execute_result"
    }
   ],
   "source": [
    "#find\n",
    "s.find('l')"
   ]
  },
  {
   "cell_type": "code",
   "execution_count": 134,
   "id": "50db57eb-da1f-4f40-a05a-4f8db83a64a6",
   "metadata": {},
   "outputs": [
    {
     "data": {
      "text/plain": [
       "-1"
      ]
     },
     "execution_count": 134,
     "metadata": {},
     "output_type": "execute_result"
    }
   ],
   "source": [
    "s.find('yellow')"
   ]
  },
  {
   "cell_type": "code",
   "execution_count": 135,
   "id": "2e86f2fe-fb4c-43a0-aaa1-b82ea040a968",
   "metadata": {},
   "outputs": [
    {
     "data": {
      "text/plain": [
       "'Oello world!'"
      ]
     },
     "execution_count": 135,
     "metadata": {},
     "output_type": "execute_result"
    }
   ],
   "source": [
    "#replace\n",
    "s.replace('H', 'O')"
   ]
  },
  {
   "cell_type": "code",
   "execution_count": 138,
   "id": "2e18e697-2c94-46e0-b5a4-02ec8628d65c",
   "metadata": {},
   "outputs": [
    {
     "data": {
      "text/plain": [
       "'HeLLo worLd!'"
      ]
     },
     "execution_count": 138,
     "metadata": {},
     "output_type": "execute_result"
    }
   ],
   "source": [
    "s.replace('l', 'L')"
   ]
  },
  {
   "cell_type": "markdown",
   "id": "2c666c58-ee80-4759-ab69-5d9adca91812",
   "metadata": {},
   "source": [
    "## Работа с файлами"
   ]
  },
  {
   "cell_type": "code",
   "execution_count": 143,
   "id": "5a29c60c-0f20-4ac4-9203-71603c9a1272",
   "metadata": {},
   "outputs": [],
   "source": [
    "#чтение файла"
   ]
  },
  {
   "cell_type": "code",
   "execution_count": 1,
   "id": "57dbc91c-d89a-412e-a98e-f299cfb7a6d2",
   "metadata": {},
   "outputs": [],
   "source": [
    "file_path = 'data/letter.txt'"
   ]
  },
  {
   "cell_type": "code",
   "execution_count": 2,
   "id": "af3f4cfe-16fb-4347-a511-67c148460251",
   "metadata": {},
   "outputs": [],
   "source": [
    "f = open(file_path, \"r\")\n",
    "\n",
    "first_line = f.readline()"
   ]
  },
  {
   "cell_type": "code",
   "execution_count": 3,
   "id": "88cd88b9-156a-4c3d-9ae5-6034ed48024b",
   "metadata": {},
   "outputs": [],
   "source": [
    "f.close()"
   ]
  },
  {
   "cell_type": "code",
   "execution_count": 4,
   "id": "7d96df9a-55a3-4096-b7c0-1cec319cce24",
   "metadata": {},
   "outputs": [
    {
     "data": {
      "text/plain": [
       "'Я к вам пишу — чего же боле?\\n'"
      ]
     },
     "execution_count": 4,
     "metadata": {},
     "output_type": "execute_result"
    }
   ],
   "source": [
    "first_line"
   ]
  },
  {
   "cell_type": "code",
   "execution_count": 5,
   "id": "3e18bff6-972e-4e5d-bf18-dfbea87326ac",
   "metadata": {},
   "outputs": [
    {
     "name": "stdout",
     "output_type": "stream",
     "text": [
      "Я к вам пишу — чего же боле?\n",
      "\n"
     ]
    }
   ],
   "source": [
    "with open(file_path, 'r') as f:\n",
    "    print(f.readline())"
   ]
  },
  {
   "cell_type": "code",
   "execution_count": 6,
   "id": "42730792-048f-48ee-be2e-f8da0b8c819f",
   "metadata": {},
   "outputs": [],
   "source": [
    "#чтение нескольких символов и целого текста"
   ]
  },
  {
   "cell_type": "code",
   "execution_count": 8,
   "id": "b5b59707-d7cf-43a7-bfc6-d49591d1cdf0",
   "metadata": {},
   "outputs": [
    {
     "data": {
      "text/plain": [
       "'Я к вам пишу — чего же боле?\\nЧто я могу еще сказать?\\nТеперь, я знаю, в вашей воле\\nМеня презреньем наказать.\\nНо вы, к моей несчастной доле\\nХоть каплю жалости храня,\\nВы не оставите меня.\\nСначала я молчать хотела;\\nПоверьте: моего стыда\\nВы не узнали б никогда,\\nКогда б надежду я имела\\nХоть редко, хоть в неделю раз\\nВ деревне нашей видеть вас,\\nЧтоб только слышать ваши речи,\\nВам слово молвить, и потом\\nВсе думать, думать об одном\\nИ день и ночь до новой встречи.\\nНо, говорят, вы нелюдим;\\nВ глуши, в деревне всё вам скучно,\\nА мы… ничем мы не блестим,\\nХоть вам и рады простодушно.\\n\\nЗачем вы посетили нас?\\nВ глуши забытого селенья\\nЯ никогда не знала б вас,\\nНе знала б горького мученья.\\nДуши неопытной волненья\\nСмирив со временем (как знать?),\\nПо сердцу я нашла бы друга,\\nБыла бы верная супруга\\nИ добродетельная мать.\\n\\nДругой!.. Нет, никому на свете\\nНе отдала бы сердца я!\\nТо в вышнем суждено совете…\\nТо воля неба: я твоя;\\nВся жизнь моя была залогом\\nСвиданья верного с тобой;\\nЯ знаю, ты мне послан богом,\\nДо гроба ты хранитель мой…\\nТы в сновиденьях мне являлся,\\nНезримый, ты мне был уж мил,\\nТвой чудный взгляд меня томил,\\nВ душе твой голос раздавался\\nДавно… нет, это был не сон!\\nТы чуть вошел, я вмиг узнала,\\nВся обомлела, запылала\\nИ в мыслях молвила: вот он!\\nНе правда ль? Я тебя слыхала:\\nТы говорил со мной в тиши,\\nКогда я бедным помогала\\nИли молитвой услаждала\\nТоску волнуемой души?\\nИ в это самое мгновенье\\nНе ты ли, милое виденье,\\nВ прозрачной темноте мелькнул,\\nПриникнул тихо к изголовью?\\nНе ты ль, с отрадой и любовью,\\nСлова надежды мне шепнул?\\nКто ты, мой ангел ли хранитель,\\nИли коварный искуситель:\\nМои сомненья разреши.\\nБыть может, это все пустое,\\nОбман неопытной души!\\nИ суждено совсем иное…\\nНо так и быть! Судьбу мою\\nОтныне я тебе вручаю,\\nПеред тобою слезы лью,\\nТвоей защиты умоляю…\\nВообрази: я здесь одна,\\nНикто меня не понимает,\\nРассудок мой изнемогает,\\nИ молча гибнуть я должна.\\nЯ жду тебя: единым взором\\nНадежды сердца оживи\\nИль сон тяжелый перерви,\\nУвы, заслуженным укором!\\n\\nКончаю! Страшно перечесть…\\nСтыдом и страхом замираю…\\nНо мне порукой ваша честь,\\nИ смело ей себя вверяю…\\n\\n'"
      ]
     },
     "execution_count": 8,
     "metadata": {},
     "output_type": "execute_result"
    }
   ],
   "source": [
    "f = open(file_path, \"r\")\n",
    "f.read()"
   ]
  },
  {
   "cell_type": "code",
   "execution_count": 9,
   "id": "a6608682-3fb9-497e-b603-e88ddd902097",
   "metadata": {},
   "outputs": [
    {
     "data": {
      "text/plain": [
       "''"
      ]
     },
     "execution_count": 9,
     "metadata": {},
     "output_type": "execute_result"
    }
   ],
   "source": [
    "f.readline()"
   ]
  },
  {
   "cell_type": "code",
   "execution_count": 10,
   "id": "31149988-9961-4732-b83b-4f6435e9b9c1",
   "metadata": {},
   "outputs": [
    {
     "name": "stdout",
     "output_type": "stream",
     "text": [
      "Я к\n"
     ]
    }
   ],
   "source": [
    "with open(file_path, 'r') as f:\n",
    "    print(f.read(3))"
   ]
  },
  {
   "cell_type": "code",
   "execution_count": 11,
   "id": "9ebeb91f-0cca-4a84-a968-245695542f25",
   "metadata": {},
   "outputs": [],
   "source": [
    "#чтение по строкам\n",
    "text_lines = []\n",
    "\n",
    "with open(file_path, 'r') as f:\n",
    "    for line in f:\n",
    "        text_lines.append(line)"
   ]
  },
  {
   "cell_type": "code",
   "execution_count": 12,
   "id": "65d51b7f-a8f8-4437-b573-87da8c632e70",
   "metadata": {},
   "outputs": [
    {
     "data": {
      "text/plain": [
       "['Я к вам пишу — чего же боле?\\n',\n",
       " 'Что я могу еще сказать?\\n',\n",
       " 'Теперь, я знаю, в вашей воле\\n',\n",
       " 'Меня презреньем наказать.\\n',\n",
       " 'Но вы, к моей несчастной доле\\n',\n",
       " 'Хоть каплю жалости храня,\\n',\n",
       " 'Вы не оставите меня.\\n',\n",
       " 'Сначала я молчать хотела;\\n',\n",
       " 'Поверьте: моего стыда\\n',\n",
       " 'Вы не узнали б никогда,\\n',\n",
       " 'Когда б надежду я имела\\n',\n",
       " 'Хоть редко, хоть в неделю раз\\n',\n",
       " 'В деревне нашей видеть вас,\\n',\n",
       " 'Чтоб только слышать ваши речи,\\n',\n",
       " 'Вам слово молвить, и потом\\n',\n",
       " 'Все думать, думать об одном\\n',\n",
       " 'И день и ночь до новой встречи.\\n',\n",
       " 'Но, говорят, вы нелюдим;\\n',\n",
       " 'В глуши, в деревне всё вам скучно,\\n',\n",
       " 'А мы… ничем мы не блестим,\\n',\n",
       " 'Хоть вам и рады простодушно.\\n',\n",
       " '\\n',\n",
       " 'Зачем вы посетили нас?\\n',\n",
       " 'В глуши забытого селенья\\n',\n",
       " 'Я никогда не знала б вас,\\n',\n",
       " 'Не знала б горького мученья.\\n',\n",
       " 'Души неопытной волненья\\n',\n",
       " 'Смирив со временем (как знать?),\\n',\n",
       " 'По сердцу я нашла бы друга,\\n',\n",
       " 'Была бы верная супруга\\n',\n",
       " 'И добродетельная мать.\\n',\n",
       " '\\n',\n",
       " 'Другой!.. Нет, никому на свете\\n',\n",
       " 'Не отдала бы сердца я!\\n',\n",
       " 'То в вышнем суждено совете…\\n',\n",
       " 'То воля неба: я твоя;\\n',\n",
       " 'Вся жизнь моя была залогом\\n',\n",
       " 'Свиданья верного с тобой;\\n',\n",
       " 'Я знаю, ты мне послан богом,\\n',\n",
       " 'До гроба ты хранитель мой…\\n',\n",
       " 'Ты в сновиденьях мне являлся,\\n',\n",
       " 'Незримый, ты мне был уж мил,\\n',\n",
       " 'Твой чудный взгляд меня томил,\\n',\n",
       " 'В душе твой голос раздавался\\n',\n",
       " 'Давно… нет, это был не сон!\\n',\n",
       " 'Ты чуть вошел, я вмиг узнала,\\n',\n",
       " 'Вся обомлела, запылала\\n',\n",
       " 'И в мыслях молвила: вот он!\\n',\n",
       " 'Не правда ль? Я тебя слыхала:\\n',\n",
       " 'Ты говорил со мной в тиши,\\n',\n",
       " 'Когда я бедным помогала\\n',\n",
       " 'Или молитвой услаждала\\n',\n",
       " 'Тоску волнуемой души?\\n',\n",
       " 'И в это самое мгновенье\\n',\n",
       " 'Не ты ли, милое виденье,\\n',\n",
       " 'В прозрачной темноте мелькнул,\\n',\n",
       " 'Приникнул тихо к изголовью?\\n',\n",
       " 'Не ты ль, с отрадой и любовью,\\n',\n",
       " 'Слова надежды мне шепнул?\\n',\n",
       " 'Кто ты, мой ангел ли хранитель,\\n',\n",
       " 'Или коварный искуситель:\\n',\n",
       " 'Мои сомненья разреши.\\n',\n",
       " 'Быть может, это все пустое,\\n',\n",
       " 'Обман неопытной души!\\n',\n",
       " 'И суждено совсем иное…\\n',\n",
       " 'Но так и быть! Судьбу мою\\n',\n",
       " 'Отныне я тебе вручаю,\\n',\n",
       " 'Перед тобою слезы лью,\\n',\n",
       " 'Твоей защиты умоляю…\\n',\n",
       " 'Вообрази: я здесь одна,\\n',\n",
       " 'Никто меня не понимает,\\n',\n",
       " 'Рассудок мой изнемогает,\\n',\n",
       " 'И молча гибнуть я должна.\\n',\n",
       " 'Я жду тебя: единым взором\\n',\n",
       " 'Надежды сердца оживи\\n',\n",
       " 'Иль сон тяжелый перерви,\\n',\n",
       " 'Увы, заслуженным укором!\\n',\n",
       " '\\n',\n",
       " 'Кончаю! Страшно перечесть…\\n',\n",
       " 'Стыдом и страхом замираю…\\n',\n",
       " 'Но мне порукой ваша честь,\\n',\n",
       " 'И смело ей себя вверяю…\\n',\n",
       " '\\n']"
      ]
     },
     "execution_count": 12,
     "metadata": {},
     "output_type": "execute_result"
    }
   ],
   "source": [
    "text_lines"
   ]
  },
  {
   "cell_type": "markdown",
   "id": "21a32659-0002-479a-98cb-3d782fb9c17c",
   "metadata": {},
   "source": [
    "### Задание: подсчет частоты слов в файле"
   ]
  },
  {
   "cell_type": "code",
   "execution_count": 13,
   "id": "5ead55f3-2be1-476e-9d75-49fde03b3ddb",
   "metadata": {},
   "outputs": [],
   "source": [
    "text_words = [x.split(' ') for x in text_lines]"
   ]
  },
  {
   "cell_type": "code",
   "execution_count": 14,
   "id": "cc8aa347-e416-418e-881f-153b39a21c11",
   "metadata": {},
   "outputs": [],
   "source": [
    "text_words_flat = [x.replace('\\n', '').replace('.', '').replace(',', '').replace('—', '') \n",
    "                       for y in text_words for x in y]"
   ]
  },
  {
   "cell_type": "code",
   "execution_count": 15,
   "id": "f346e8d6-beeb-4aea-8f1f-6b65efd3e746",
   "metadata": {},
   "outputs": [],
   "source": [
    "text_words_flat = [x for x in text_words_flat if x!='']"
   ]
  },
  {
   "cell_type": "code",
   "execution_count": 16,
   "id": "b158416f-2aec-4621-b1ba-18647880024e",
   "metadata": {},
   "outputs": [],
   "source": [
    "word_freq = dict.fromkeys(set(text_words_flat))"
   ]
  },
  {
   "cell_type": "code",
   "execution_count": 17,
   "id": "26117481-8ee4-4d32-a73b-b8d6d0ce6c43",
   "metadata": {
    "collapsed": true,
    "jupyter": {
     "outputs_hidden": true
    },
    "tags": []
   },
   "outputs": [
    {
     "data": {
      "text/plain": [
       "{'с': None,\n",
       " 'несчастной': None,\n",
       " 'меня': None,\n",
       " 'видеть': None,\n",
       " 'молча': None,\n",
       " 'неопытной': None,\n",
       " 'совете…': None,\n",
       " 'защиты': None,\n",
       " 'ты': None,\n",
       " 'Незримый': None,\n",
       " 'обомлела': None,\n",
       " 'мы…': None,\n",
       " 'был': None,\n",
       " 'Давно…': None,\n",
       " 'блестим': None,\n",
       " 'милое': None,\n",
       " 'душе': None,\n",
       " 'Вообрази:': None,\n",
       " 'Все': None,\n",
       " 'об': None,\n",
       " 'воле': None,\n",
       " 'сновиденьях': None,\n",
       " 'и': None,\n",
       " 'Твой': None,\n",
       " 'говорил': None,\n",
       " 'супруга': None,\n",
       " 'Или': None,\n",
       " 'добродетельная': None,\n",
       " 'вашей': None,\n",
       " 'ль': None,\n",
       " 'А': None,\n",
       " 'доле': None,\n",
       " 'лью': None,\n",
       " 'молчать': None,\n",
       " 'коварный': None,\n",
       " 'вам': None,\n",
       " 'В': None,\n",
       " 'со': None,\n",
       " 'это': None,\n",
       " 'презреньем': None,\n",
       " 'голос': None,\n",
       " 'скучно': None,\n",
       " 'все': None,\n",
       " 'гроба': None,\n",
       " 'же': None,\n",
       " 'понимает': None,\n",
       " 'вот': None,\n",
       " 'узнала': None,\n",
       " 'потом': None,\n",
       " 'вы': None,\n",
       " 'Надежды': None,\n",
       " 'услаждала': None,\n",
       " 'сердца': None,\n",
       " 'любовью': None,\n",
       " 'отрадой': None,\n",
       " 'души?': None,\n",
       " 'вручаю': None,\n",
       " 'мыслях': None,\n",
       " 'являлся': None,\n",
       " 'Смирив': None,\n",
       " 'единым': None,\n",
       " 'вышнем': None,\n",
       " 'я': None,\n",
       " 'Кончаю!': None,\n",
       " 'изголовью?': None,\n",
       " 'боле?': None,\n",
       " 'суждено': None,\n",
       " 'заслуженным': None,\n",
       " 'моей': None,\n",
       " 'мной': None,\n",
       " 'укором!': None,\n",
       " 'сон': None,\n",
       " 'я!': None,\n",
       " 'твой': None,\n",
       " 'Свиданья': None,\n",
       " 'знала': None,\n",
       " 'чуть': None,\n",
       " 'смело': None,\n",
       " 'думать': None,\n",
       " 'одном': None,\n",
       " 'до': None,\n",
       " 'прозрачной': None,\n",
       " 'речи': None,\n",
       " 'имела': None,\n",
       " 'запылала': None,\n",
       " 'селенья': None,\n",
       " 'До': None,\n",
       " 'знаю': None,\n",
       " 'помогала': None,\n",
       " 'день': None,\n",
       " 'бы': None,\n",
       " 'хоть': None,\n",
       " 'пишу': None,\n",
       " 'деревне': None,\n",
       " 'никогда': None,\n",
       " 'жалости': None,\n",
       " 'Что': None,\n",
       " 'отдала': None,\n",
       " 'послан': None,\n",
       " 'оживи': None,\n",
       " 'надежды': None,\n",
       " 'свете': None,\n",
       " 'перечесть…': None,\n",
       " 'Меня': None,\n",
       " 'на': None,\n",
       " 'залогом': None,\n",
       " 'храня': None,\n",
       " 'моего': None,\n",
       " 'тебя': None,\n",
       " 'разреши': None,\n",
       " 'сон!': None,\n",
       " 'Кто': None,\n",
       " 'порукой': None,\n",
       " 'мелькнул': None,\n",
       " 'тихо': None,\n",
       " 'мне': None,\n",
       " 'горького': None,\n",
       " 'Твоей': None,\n",
       " 'мученья': None,\n",
       " 'взором': None,\n",
       " 'Отныне': None,\n",
       " 'говорят': None,\n",
       " 'оставите': None,\n",
       " 'волнуемой': None,\n",
       " 'изнемогает': None,\n",
       " 'вверяю…': None,\n",
       " 'моя': None,\n",
       " 'молитвой': None,\n",
       " 'ничем': None,\n",
       " 'каплю': None,\n",
       " 'Обман': None,\n",
       " 'твоя;': None,\n",
       " 'уж': None,\n",
       " 'души!': None,\n",
       " 'неба:': None,\n",
       " 'Никто': None,\n",
       " 'встречи': None,\n",
       " 'умоляю…': None,\n",
       " 'тебе': None,\n",
       " 'тебя:': None,\n",
       " 'нет': None,\n",
       " 'страхом': None,\n",
       " 'гибнуть': None,\n",
       " 'Зачем': None,\n",
       " 'должна': None,\n",
       " 'Другой!': None,\n",
       " 'вошел': None,\n",
       " 'вмиг': None,\n",
       " 'быть!': None,\n",
       " 'новой': None,\n",
       " 'Души': None,\n",
       " 'замираю…': None,\n",
       " 'взгляд': None,\n",
       " 'мы': None,\n",
       " 'ей': None,\n",
       " 'рады': None,\n",
       " 'ночь': None,\n",
       " 'Быть': None,\n",
       " 'Поверьте:': None,\n",
       " 'бедным': None,\n",
       " 'слово': None,\n",
       " 'нашла': None,\n",
       " 'нашей': None,\n",
       " 'тиши': None,\n",
       " 'Страшно': None,\n",
       " 'Вся': None,\n",
       " 'одна': None,\n",
       " 'вас': None,\n",
       " 'Но': None,\n",
       " 'Вы': None,\n",
       " 'Когда': None,\n",
       " 'сказать?': None,\n",
       " 'Сначала': None,\n",
       " 'раздавался': None,\n",
       " 'шепнул?': None,\n",
       " 'слезы': None,\n",
       " 'темноте': None,\n",
       " 'чего': None,\n",
       " 'простодушно': None,\n",
       " 'никому': None,\n",
       " 'еще': None,\n",
       " 'слышать': None,\n",
       " 'раз': None,\n",
       " 'сердцу': None,\n",
       " 'Теперь': None,\n",
       " 'По': None,\n",
       " 'Нет': None,\n",
       " 'воля': None,\n",
       " 'мгновенье': None,\n",
       " 'Слова': None,\n",
       " 'Перед': None,\n",
       " 'могу': None,\n",
       " 'мой': None,\n",
       " 'Не': None,\n",
       " 'совсем': None,\n",
       " 'искуситель:': None,\n",
       " 'Тоску': None,\n",
       " 'Приникнул': None,\n",
       " 'тобою': None,\n",
       " 'Хоть': None,\n",
       " 'ваша': None,\n",
       " 'жизнь': None,\n",
       " 'богом': None,\n",
       " 'мил': None,\n",
       " 'чудный': None,\n",
       " 'друга': None,\n",
       " 'молвить': None,\n",
       " 'Я': None,\n",
       " 'не': None,\n",
       " 'ваши': None,\n",
       " 'волненья': None,\n",
       " 'слыхала:': None,\n",
       " 'сомненья': None,\n",
       " 'может': None,\n",
       " 'нелюдим;': None,\n",
       " 'нас?': None,\n",
       " 'Была': None,\n",
       " 'То': None,\n",
       " 'Ты': None,\n",
       " 'самое': None,\n",
       " 'верного': None,\n",
       " 'себя': None,\n",
       " 'тобой;': None,\n",
       " 'хранитель': None,\n",
       " 'Вам': None,\n",
       " 'мой…': None,\n",
       " 'виденье': None,\n",
       " 'честь': None,\n",
       " 'мать': None,\n",
       " 'он!': None,\n",
       " 'Чтоб': None,\n",
       " 'тяжелый': None,\n",
       " 'стыда': None,\n",
       " 'иное…': None,\n",
       " 'Мои': None,\n",
       " 'Рассудок': None,\n",
       " 'Стыдом': None,\n",
       " 'И': None,\n",
       " 'к': None,\n",
       " 'здесь': None,\n",
       " 'так': None,\n",
       " 'молвила:': None,\n",
       " 'глуши': None,\n",
       " 'знать?)': None,\n",
       " 'посетили': None,\n",
       " 'пустое': None,\n",
       " 'забытого': None,\n",
       " 'неделю': None,\n",
       " 'б': None,\n",
       " 'перерви': None,\n",
       " 'правда': None,\n",
       " 'хотела;': None,\n",
       " 'редко': None,\n",
       " 'томил': None,\n",
       " 'ли': None,\n",
       " 'только': None,\n",
       " 'наказать': None,\n",
       " 'Увы': None,\n",
       " 'верная': None,\n",
       " 'Иль': None,\n",
       " 'всё': None,\n",
       " '(как': None,\n",
       " 'Судьбу': None,\n",
       " 'была': None,\n",
       " 'ангел': None,\n",
       " 'жду': None,\n",
       " 'в': None,\n",
       " 'надежду': None,\n",
       " 'мою': None,\n",
       " 'ль?': None,\n",
       " 'узнали': None,\n",
       " 'временем': None}"
      ]
     },
     "execution_count": 17,
     "metadata": {},
     "output_type": "execute_result"
    }
   ],
   "source": [
    "word_freq"
   ]
  },
  {
   "cell_type": "code",
   "execution_count": 18,
   "id": "64596e88-9231-4e05-a146-fc2a98620f6c",
   "metadata": {},
   "outputs": [],
   "source": [
    "word_freq = dict(zip(list(set(text_words_flat)), [0]*len(list(set(text_words_flat)))))"
   ]
  },
  {
   "cell_type": "code",
   "execution_count": 19,
   "id": "5278fe0a-b00c-4350-a993-d73bda731890",
   "metadata": {
    "collapsed": true,
    "jupyter": {
     "outputs_hidden": true
    },
    "tags": []
   },
   "outputs": [
    {
     "data": {
      "text/plain": [
       "{'с': 0,\n",
       " 'несчастной': 0,\n",
       " 'меня': 0,\n",
       " 'видеть': 0,\n",
       " 'молча': 0,\n",
       " 'неопытной': 0,\n",
       " 'совете…': 0,\n",
       " 'защиты': 0,\n",
       " 'ты': 0,\n",
       " 'Незримый': 0,\n",
       " 'обомлела': 0,\n",
       " 'мы…': 0,\n",
       " 'был': 0,\n",
       " 'Давно…': 0,\n",
       " 'блестим': 0,\n",
       " 'милое': 0,\n",
       " 'душе': 0,\n",
       " 'Вообрази:': 0,\n",
       " 'Все': 0,\n",
       " 'об': 0,\n",
       " 'воле': 0,\n",
       " 'сновиденьях': 0,\n",
       " 'и': 0,\n",
       " 'Твой': 0,\n",
       " 'говорил': 0,\n",
       " 'супруга': 0,\n",
       " 'Или': 0,\n",
       " 'добродетельная': 0,\n",
       " 'вашей': 0,\n",
       " 'ль': 0,\n",
       " 'А': 0,\n",
       " 'доле': 0,\n",
       " 'лью': 0,\n",
       " 'молчать': 0,\n",
       " 'коварный': 0,\n",
       " 'вам': 0,\n",
       " 'В': 0,\n",
       " 'со': 0,\n",
       " 'это': 0,\n",
       " 'презреньем': 0,\n",
       " 'голос': 0,\n",
       " 'скучно': 0,\n",
       " 'все': 0,\n",
       " 'гроба': 0,\n",
       " 'же': 0,\n",
       " 'понимает': 0,\n",
       " 'вот': 0,\n",
       " 'узнала': 0,\n",
       " 'потом': 0,\n",
       " 'вы': 0,\n",
       " 'Надежды': 0,\n",
       " 'услаждала': 0,\n",
       " 'сердца': 0,\n",
       " 'любовью': 0,\n",
       " 'отрадой': 0,\n",
       " 'души?': 0,\n",
       " 'вручаю': 0,\n",
       " 'мыслях': 0,\n",
       " 'являлся': 0,\n",
       " 'Смирив': 0,\n",
       " 'единым': 0,\n",
       " 'вышнем': 0,\n",
       " 'я': 0,\n",
       " 'Кончаю!': 0,\n",
       " 'изголовью?': 0,\n",
       " 'боле?': 0,\n",
       " 'суждено': 0,\n",
       " 'заслуженным': 0,\n",
       " 'моей': 0,\n",
       " 'мной': 0,\n",
       " 'укором!': 0,\n",
       " 'сон': 0,\n",
       " 'я!': 0,\n",
       " 'твой': 0,\n",
       " 'Свиданья': 0,\n",
       " 'знала': 0,\n",
       " 'чуть': 0,\n",
       " 'смело': 0,\n",
       " 'думать': 0,\n",
       " 'одном': 0,\n",
       " 'до': 0,\n",
       " 'прозрачной': 0,\n",
       " 'речи': 0,\n",
       " 'имела': 0,\n",
       " 'запылала': 0,\n",
       " 'селенья': 0,\n",
       " 'До': 0,\n",
       " 'знаю': 0,\n",
       " 'помогала': 0,\n",
       " 'день': 0,\n",
       " 'бы': 0,\n",
       " 'хоть': 0,\n",
       " 'пишу': 0,\n",
       " 'деревне': 0,\n",
       " 'никогда': 0,\n",
       " 'жалости': 0,\n",
       " 'Что': 0,\n",
       " 'отдала': 0,\n",
       " 'послан': 0,\n",
       " 'оживи': 0,\n",
       " 'надежды': 0,\n",
       " 'свете': 0,\n",
       " 'перечесть…': 0,\n",
       " 'Меня': 0,\n",
       " 'на': 0,\n",
       " 'залогом': 0,\n",
       " 'храня': 0,\n",
       " 'моего': 0,\n",
       " 'тебя': 0,\n",
       " 'разреши': 0,\n",
       " 'сон!': 0,\n",
       " 'Кто': 0,\n",
       " 'порукой': 0,\n",
       " 'мелькнул': 0,\n",
       " 'тихо': 0,\n",
       " 'мне': 0,\n",
       " 'горького': 0,\n",
       " 'Твоей': 0,\n",
       " 'мученья': 0,\n",
       " 'взором': 0,\n",
       " 'Отныне': 0,\n",
       " 'говорят': 0,\n",
       " 'оставите': 0,\n",
       " 'волнуемой': 0,\n",
       " 'изнемогает': 0,\n",
       " 'вверяю…': 0,\n",
       " 'моя': 0,\n",
       " 'молитвой': 0,\n",
       " 'ничем': 0,\n",
       " 'каплю': 0,\n",
       " 'Обман': 0,\n",
       " 'твоя;': 0,\n",
       " 'уж': 0,\n",
       " 'души!': 0,\n",
       " 'неба:': 0,\n",
       " 'Никто': 0,\n",
       " 'встречи': 0,\n",
       " 'умоляю…': 0,\n",
       " 'тебе': 0,\n",
       " 'тебя:': 0,\n",
       " 'нет': 0,\n",
       " 'страхом': 0,\n",
       " 'гибнуть': 0,\n",
       " 'Зачем': 0,\n",
       " 'должна': 0,\n",
       " 'Другой!': 0,\n",
       " 'вошел': 0,\n",
       " 'вмиг': 0,\n",
       " 'быть!': 0,\n",
       " 'новой': 0,\n",
       " 'Души': 0,\n",
       " 'замираю…': 0,\n",
       " 'взгляд': 0,\n",
       " 'мы': 0,\n",
       " 'ей': 0,\n",
       " 'рады': 0,\n",
       " 'ночь': 0,\n",
       " 'Быть': 0,\n",
       " 'Поверьте:': 0,\n",
       " 'бедным': 0,\n",
       " 'слово': 0,\n",
       " 'нашла': 0,\n",
       " 'нашей': 0,\n",
       " 'тиши': 0,\n",
       " 'Страшно': 0,\n",
       " 'Вся': 0,\n",
       " 'одна': 0,\n",
       " 'вас': 0,\n",
       " 'Но': 0,\n",
       " 'Вы': 0,\n",
       " 'Когда': 0,\n",
       " 'сказать?': 0,\n",
       " 'Сначала': 0,\n",
       " 'раздавался': 0,\n",
       " 'шепнул?': 0,\n",
       " 'слезы': 0,\n",
       " 'темноте': 0,\n",
       " 'чего': 0,\n",
       " 'простодушно': 0,\n",
       " 'никому': 0,\n",
       " 'еще': 0,\n",
       " 'слышать': 0,\n",
       " 'раз': 0,\n",
       " 'сердцу': 0,\n",
       " 'Теперь': 0,\n",
       " 'По': 0,\n",
       " 'Нет': 0,\n",
       " 'воля': 0,\n",
       " 'мгновенье': 0,\n",
       " 'Слова': 0,\n",
       " 'Перед': 0,\n",
       " 'могу': 0,\n",
       " 'мой': 0,\n",
       " 'Не': 0,\n",
       " 'совсем': 0,\n",
       " 'искуситель:': 0,\n",
       " 'Тоску': 0,\n",
       " 'Приникнул': 0,\n",
       " 'тобою': 0,\n",
       " 'Хоть': 0,\n",
       " 'ваша': 0,\n",
       " 'жизнь': 0,\n",
       " 'богом': 0,\n",
       " 'мил': 0,\n",
       " 'чудный': 0,\n",
       " 'друга': 0,\n",
       " 'молвить': 0,\n",
       " 'Я': 0,\n",
       " 'не': 0,\n",
       " 'ваши': 0,\n",
       " 'волненья': 0,\n",
       " 'слыхала:': 0,\n",
       " 'сомненья': 0,\n",
       " 'может': 0,\n",
       " 'нелюдим;': 0,\n",
       " 'нас?': 0,\n",
       " 'Была': 0,\n",
       " 'То': 0,\n",
       " 'Ты': 0,\n",
       " 'самое': 0,\n",
       " 'верного': 0,\n",
       " 'себя': 0,\n",
       " 'тобой;': 0,\n",
       " 'хранитель': 0,\n",
       " 'Вам': 0,\n",
       " 'мой…': 0,\n",
       " 'виденье': 0,\n",
       " 'честь': 0,\n",
       " 'мать': 0,\n",
       " 'он!': 0,\n",
       " 'Чтоб': 0,\n",
       " 'тяжелый': 0,\n",
       " 'стыда': 0,\n",
       " 'иное…': 0,\n",
       " 'Мои': 0,\n",
       " 'Рассудок': 0,\n",
       " 'Стыдом': 0,\n",
       " 'И': 0,\n",
       " 'к': 0,\n",
       " 'здесь': 0,\n",
       " 'так': 0,\n",
       " 'молвила:': 0,\n",
       " 'глуши': 0,\n",
       " 'знать?)': 0,\n",
       " 'посетили': 0,\n",
       " 'пустое': 0,\n",
       " 'забытого': 0,\n",
       " 'неделю': 0,\n",
       " 'б': 0,\n",
       " 'перерви': 0,\n",
       " 'правда': 0,\n",
       " 'хотела;': 0,\n",
       " 'редко': 0,\n",
       " 'томил': 0,\n",
       " 'ли': 0,\n",
       " 'только': 0,\n",
       " 'наказать': 0,\n",
       " 'Увы': 0,\n",
       " 'верная': 0,\n",
       " 'Иль': 0,\n",
       " 'всё': 0,\n",
       " '(как': 0,\n",
       " 'Судьбу': 0,\n",
       " 'была': 0,\n",
       " 'ангел': 0,\n",
       " 'жду': 0,\n",
       " 'в': 0,\n",
       " 'надежду': 0,\n",
       " 'мою': 0,\n",
       " 'ль?': 0,\n",
       " 'узнали': 0,\n",
       " 'временем': 0}"
      ]
     },
     "execution_count": 19,
     "metadata": {},
     "output_type": "execute_result"
    }
   ],
   "source": [
    "word_freq"
   ]
  },
  {
   "cell_type": "code",
   "execution_count": 20,
   "id": "0cf6cfe3-fa6f-4488-a54e-537c9d44900e",
   "metadata": {},
   "outputs": [],
   "source": [
    "for word in text_words_flat:\n",
    "    word_freq[word] += 1"
   ]
  },
  {
   "cell_type": "code",
   "execution_count": 21,
   "id": "15aeb09a-9a96-4613-8829-c77f4ccc3bf3",
   "metadata": {},
   "outputs": [
    {
     "data": {
      "text/plain": [
       "{'с': 2,\n",
       " 'несчастной': 1,\n",
       " 'меня': 3,\n",
       " 'видеть': 1,\n",
       " 'молча': 1,\n",
       " 'неопытной': 2,\n",
       " 'совете…': 1,\n",
       " 'защиты': 1,\n",
       " 'ты': 6,\n",
       " 'Незримый': 1,\n",
       " 'обомлела': 1,\n",
       " 'мы…': 1,\n",
       " 'был': 2,\n",
       " 'Давно…': 1,\n",
       " 'блестим': 1,\n",
       " 'милое': 1,\n",
       " 'душе': 1,\n",
       " 'Вообрази:': 1,\n",
       " 'Все': 1,\n",
       " 'об': 1,\n",
       " 'воле': 1,\n",
       " 'сновиденьях': 1,\n",
       " 'и': 6,\n",
       " 'Твой': 1,\n",
       " 'говорил': 1,\n",
       " 'супруга': 1,\n",
       " 'Или': 2,\n",
       " 'добродетельная': 1,\n",
       " 'вашей': 1,\n",
       " 'ль': 1,\n",
       " 'А': 1,\n",
       " 'доле': 1,\n",
       " 'лью': 1,\n",
       " 'молчать': 1,\n",
       " 'коварный': 1,\n",
       " 'вам': 3,\n",
       " 'В': 5,\n",
       " 'со': 2,\n",
       " 'это': 3,\n",
       " 'презреньем': 1,\n",
       " 'голос': 1,\n",
       " 'скучно': 1,\n",
       " 'все': 1,\n",
       " 'гроба': 1,\n",
       " 'же': 1,\n",
       " 'понимает': 1,\n",
       " 'вот': 1,\n",
       " 'узнала': 1,\n",
       " 'потом': 1,\n",
       " 'вы': 3,\n",
       " 'Надежды': 1,\n",
       " 'услаждала': 1,\n",
       " 'сердца': 2,\n",
       " 'любовью': 1,\n",
       " 'отрадой': 1,\n",
       " 'души?': 1,\n",
       " 'вручаю': 1,\n",
       " 'мыслях': 1,\n",
       " 'являлся': 1,\n",
       " 'Смирив': 1,\n",
       " 'единым': 1,\n",
       " 'вышнем': 1,\n",
       " 'я': 11,\n",
       " 'Кончаю!': 1,\n",
       " 'изголовью?': 1,\n",
       " 'боле?': 1,\n",
       " 'суждено': 2,\n",
       " 'заслуженным': 1,\n",
       " 'моей': 1,\n",
       " 'мной': 1,\n",
       " 'укором!': 1,\n",
       " 'сон': 1,\n",
       " 'я!': 1,\n",
       " 'твой': 1,\n",
       " 'Свиданья': 1,\n",
       " 'знала': 2,\n",
       " 'чуть': 1,\n",
       " 'смело': 1,\n",
       " 'думать': 2,\n",
       " 'одном': 1,\n",
       " 'до': 1,\n",
       " 'прозрачной': 1,\n",
       " 'речи': 1,\n",
       " 'имела': 1,\n",
       " 'запылала': 1,\n",
       " 'селенья': 1,\n",
       " 'До': 1,\n",
       " 'знаю': 2,\n",
       " 'помогала': 1,\n",
       " 'день': 1,\n",
       " 'бы': 3,\n",
       " 'хоть': 1,\n",
       " 'пишу': 1,\n",
       " 'деревне': 2,\n",
       " 'никогда': 2,\n",
       " 'жалости': 1,\n",
       " 'Что': 1,\n",
       " 'отдала': 1,\n",
       " 'послан': 1,\n",
       " 'оживи': 1,\n",
       " 'надежды': 1,\n",
       " 'свете': 1,\n",
       " 'перечесть…': 1,\n",
       " 'Меня': 1,\n",
       " 'на': 1,\n",
       " 'залогом': 1,\n",
       " 'храня': 1,\n",
       " 'моего': 1,\n",
       " 'тебя': 1,\n",
       " 'разреши': 1,\n",
       " 'сон!': 1,\n",
       " 'Кто': 1,\n",
       " 'порукой': 1,\n",
       " 'мелькнул': 1,\n",
       " 'тихо': 1,\n",
       " 'мне': 5,\n",
       " 'горького': 1,\n",
       " 'Твоей': 1,\n",
       " 'мученья': 1,\n",
       " 'взором': 1,\n",
       " 'Отныне': 1,\n",
       " 'говорят': 1,\n",
       " 'оставите': 1,\n",
       " 'волнуемой': 1,\n",
       " 'изнемогает': 1,\n",
       " 'вверяю…': 1,\n",
       " 'моя': 1,\n",
       " 'молитвой': 1,\n",
       " 'ничем': 1,\n",
       " 'каплю': 1,\n",
       " 'Обман': 1,\n",
       " 'твоя;': 1,\n",
       " 'уж': 1,\n",
       " 'души!': 1,\n",
       " 'неба:': 1,\n",
       " 'Никто': 1,\n",
       " 'встречи': 1,\n",
       " 'умоляю…': 1,\n",
       " 'тебе': 1,\n",
       " 'тебя:': 1,\n",
       " 'нет': 1,\n",
       " 'страхом': 1,\n",
       " 'гибнуть': 1,\n",
       " 'Зачем': 1,\n",
       " 'должна': 1,\n",
       " 'Другой!': 1,\n",
       " 'вошел': 1,\n",
       " 'вмиг': 1,\n",
       " 'быть!': 1,\n",
       " 'новой': 1,\n",
       " 'Души': 1,\n",
       " 'замираю…': 1,\n",
       " 'взгляд': 1,\n",
       " 'мы': 1,\n",
       " 'ей': 1,\n",
       " 'рады': 1,\n",
       " 'ночь': 1,\n",
       " 'Быть': 1,\n",
       " 'Поверьте:': 1,\n",
       " 'бедным': 1,\n",
       " 'слово': 1,\n",
       " 'нашла': 1,\n",
       " 'нашей': 1,\n",
       " 'тиши': 1,\n",
       " 'Страшно': 1,\n",
       " 'Вся': 2,\n",
       " 'одна': 1,\n",
       " 'вас': 2,\n",
       " 'Но': 4,\n",
       " 'Вы': 2,\n",
       " 'Когда': 2,\n",
       " 'сказать?': 1,\n",
       " 'Сначала': 1,\n",
       " 'раздавался': 1,\n",
       " 'шепнул?': 1,\n",
       " 'слезы': 1,\n",
       " 'темноте': 1,\n",
       " 'чего': 1,\n",
       " 'простодушно': 1,\n",
       " 'никому': 1,\n",
       " 'еще': 1,\n",
       " 'слышать': 1,\n",
       " 'раз': 1,\n",
       " 'сердцу': 1,\n",
       " 'Теперь': 1,\n",
       " 'По': 1,\n",
       " 'Нет': 1,\n",
       " 'воля': 1,\n",
       " 'мгновенье': 1,\n",
       " 'Слова': 1,\n",
       " 'Перед': 1,\n",
       " 'могу': 1,\n",
       " 'мой': 2,\n",
       " 'Не': 5,\n",
       " 'совсем': 1,\n",
       " 'искуситель:': 1,\n",
       " 'Тоску': 1,\n",
       " 'Приникнул': 1,\n",
       " 'тобою': 1,\n",
       " 'Хоть': 3,\n",
       " 'ваша': 1,\n",
       " 'жизнь': 1,\n",
       " 'богом': 1,\n",
       " 'мил': 1,\n",
       " 'чудный': 1,\n",
       " 'друга': 1,\n",
       " 'молвить': 1,\n",
       " 'Я': 5,\n",
       " 'не': 6,\n",
       " 'ваши': 1,\n",
       " 'волненья': 1,\n",
       " 'слыхала:': 1,\n",
       " 'сомненья': 1,\n",
       " 'может': 1,\n",
       " 'нелюдим;': 1,\n",
       " 'нас?': 1,\n",
       " 'Была': 1,\n",
       " 'То': 2,\n",
       " 'Ты': 3,\n",
       " 'самое': 1,\n",
       " 'верного': 1,\n",
       " 'себя': 1,\n",
       " 'тобой;': 1,\n",
       " 'хранитель': 2,\n",
       " 'Вам': 1,\n",
       " 'мой…': 1,\n",
       " 'виденье': 1,\n",
       " 'честь': 1,\n",
       " 'мать': 1,\n",
       " 'он!': 1,\n",
       " 'Чтоб': 1,\n",
       " 'тяжелый': 1,\n",
       " 'стыда': 1,\n",
       " 'иное…': 1,\n",
       " 'Мои': 1,\n",
       " 'Рассудок': 1,\n",
       " 'Стыдом': 1,\n",
       " 'И': 7,\n",
       " 'к': 3,\n",
       " 'здесь': 1,\n",
       " 'так': 1,\n",
       " 'молвила:': 1,\n",
       " 'глуши': 2,\n",
       " 'знать?)': 1,\n",
       " 'посетили': 1,\n",
       " 'пустое': 1,\n",
       " 'забытого': 1,\n",
       " 'неделю': 1,\n",
       " 'б': 4,\n",
       " 'перерви': 1,\n",
       " 'правда': 1,\n",
       " 'хотела;': 1,\n",
       " 'редко': 1,\n",
       " 'томил': 1,\n",
       " 'ли': 2,\n",
       " 'только': 1,\n",
       " 'наказать': 1,\n",
       " 'Увы': 1,\n",
       " 'верная': 1,\n",
       " 'Иль': 1,\n",
       " 'всё': 1,\n",
       " '(как': 1,\n",
       " 'Судьбу': 1,\n",
       " 'была': 1,\n",
       " 'ангел': 1,\n",
       " 'жду': 1,\n",
       " 'в': 8,\n",
       " 'надежду': 1,\n",
       " 'мою': 1,\n",
       " 'ль?': 1,\n",
       " 'узнали': 1,\n",
       " 'временем': 1}"
      ]
     },
     "execution_count": 21,
     "metadata": {},
     "output_type": "execute_result"
    }
   ],
   "source": [
    "word_freq"
   ]
  },
  {
   "cell_type": "code",
   "execution_count": 22,
   "id": "0058f70d-fde3-4683-9281-a39b7a9ee178",
   "metadata": {},
   "outputs": [],
   "source": [
    "#Counter"
   ]
  },
  {
   "cell_type": "code",
   "execution_count": 23,
   "id": "ddb95182-8b08-4951-ab3e-3107a84756e6",
   "metadata": {},
   "outputs": [],
   "source": [
    "from collections import Counter"
   ]
  },
  {
   "cell_type": "code",
   "execution_count": 30,
   "id": "4d0c5d4a-b294-4fcb-a3b6-c66d645a97ff",
   "metadata": {},
   "outputs": [],
   "source": [
    "word_freq_counter = Counter(text_words_flat)"
   ]
  },
  {
   "cell_type": "code",
   "execution_count": 31,
   "id": "7640791f-8aa4-4185-90f2-e996651f55c0",
   "metadata": {},
   "outputs": [
    {
     "data": {
      "text/plain": [
       "[('я', 11), ('в', 8), ('И', 7)]"
      ]
     },
     "execution_count": 31,
     "metadata": {},
     "output_type": "execute_result"
    }
   ],
   "source": [
    "word_freq_counter.most_common(3)"
   ]
  },
  {
   "cell_type": "code",
   "execution_count": 32,
   "id": "01c754d9-3b81-47b4-9a66-2712dde322d4",
   "metadata": {},
   "outputs": [
    {
     "data": {
      "text/plain": [
       "True"
      ]
     },
     "execution_count": 32,
     "metadata": {},
     "output_type": "execute_result"
    }
   ],
   "source": [
    "dict(word_freq_counter) == word_freq"
   ]
  },
  {
   "cell_type": "code",
   "execution_count": 34,
   "id": "22572353-7dce-4a47-9531-3ca73ba45a17",
   "metadata": {},
   "outputs": [],
   "source": [
    "word_freq_lines = []\n",
    "\n",
    "for (k, v) in word_freq.items():\n",
    "    word_freq_lines.append(f'{k} {v}')"
   ]
  },
  {
   "cell_type": "code",
   "execution_count": 37,
   "id": "8e2a6294-d95b-4e00-b457-240dc5d11bf1",
   "metadata": {},
   "outputs": [],
   "source": [
    "with open('data/word_freq.txt', 'w') as f:\n",
    "    f.writelines(word_freq_lines)"
   ]
  },
  {
   "cell_type": "code",
   "execution_count": 38,
   "id": "3011c665-f7a6-4ae7-a43d-95b4839c5f7e",
   "metadata": {},
   "outputs": [],
   "source": [
    "with open('data/word_freq1.txt', 'w') as f:\n",
    "    f.write('\\n'.join(word_freq_lines))"
   ]
  },
  {
   "cell_type": "code",
   "execution_count": 39,
   "id": "05d1281a-7b7f-4e85-b51f-1c7af9ea38a2",
   "metadata": {},
   "outputs": [],
   "source": [
    "with open('data/word_freq2.txt', 'w') as f:\n",
    "    for line in word_freq_lines:\n",
    "        f.write(line)\n",
    "        f.write('\\n')"
   ]
  },
  {
   "cell_type": "markdown",
   "id": "a3a5842e-318a-4147-ae0f-25c7f0618cf2",
   "metadata": {},
   "source": [
    "### Задача: дана последовательность из 0 и 1. Нужно посчитать длину максимальной подпоследовательности из единиц"
   ]
  },
  {
   "cell_type": "code",
   "execution_count": 1,
   "id": "d82f15af-18f6-4100-a347-533253ed9597",
   "metadata": {},
   "outputs": [],
   "source": [
    "def max_subseq(l):\n",
    "    max_subseq = 0\n",
    "    seq = 0\n",
    "    for x in l:\n",
    "        if x==1:\n",
    "            seq += 1\n",
    "        else:\n",
    "            seq = 0\n",
    "        if seq > max_subseq:\n",
    "            max_subseq = seq\n",
    "    return max_subseq"
   ]
  },
  {
   "cell_type": "code",
   "execution_count": 6,
   "id": "ee551c1b-2497-4fe4-9f10-46cddcea5735",
   "metadata": {},
   "outputs": [],
   "source": [
    "l_test = [0, 0, 0, 0, 0, 0, 0, 0, 0, 0, 1, 1]"
   ]
  },
  {
   "cell_type": "code",
   "execution_count": 7,
   "id": "205d667e-c605-4e65-83e8-ec0c29fcba52",
   "metadata": {},
   "outputs": [
    {
     "data": {
      "text/plain": [
       "2"
      ]
     },
     "execution_count": 7,
     "metadata": {},
     "output_type": "execute_result"
    }
   ],
   "source": [
    "max_subseq(l_test)"
   ]
  },
  {
   "cell_type": "code",
   "execution_count": 4,
   "id": "04580058-2597-44f3-87ce-f509d625951a",
   "metadata": {},
   "outputs": [],
   "source": [
    "l_test = [1, 0]"
   ]
  },
  {
   "cell_type": "code",
   "execution_count": 5,
   "id": "37822a80-b740-42c4-be44-cb1bea2b6120",
   "metadata": {},
   "outputs": [
    {
     "data": {
      "text/plain": [
       "1"
      ]
     },
     "execution_count": 5,
     "metadata": {},
     "output_type": "execute_result"
    }
   ],
   "source": [
    "max_subseq(l_test)"
   ]
  },
  {
   "cell_type": "code",
   "execution_count": null,
   "id": "c7038a26-2cd4-4cd3-983f-465fedad5877",
   "metadata": {},
   "outputs": [],
   "source": []
  }
 ],
 "metadata": {
  "kernelspec": {
   "display_name": "Python 3 (ipykernel)",
   "language": "python",
   "name": "python3"
  },
  "language_info": {
   "codemirror_mode": {
    "name": "ipython",
    "version": 3
   },
   "file_extension": ".py",
   "mimetype": "text/x-python",
   "name": "python",
   "nbconvert_exporter": "python",
   "pygments_lexer": "ipython3",
   "version": "3.7.16"
  }
 },
 "nbformat": 4,
 "nbformat_minor": 5
}

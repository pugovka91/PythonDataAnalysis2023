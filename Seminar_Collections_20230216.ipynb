{
 "cells": [
  {
   "cell_type": "markdown",
   "id": "ca7c9daf-4ee9-451a-a114-86a417a3939e",
   "metadata": {},
   "source": [
    "# Основы Python"
   ]
  },
  {
   "cell_type": "markdown",
   "id": "ad247fb9-84ad-492d-aa32-df22c72cff50",
   "metadata": {},
   "source": [
    "https://www.anaconda.com"
   ]
  },
  {
   "cell_type": "markdown",
   "id": "a4d7b366-1b91-4d23-8ca6-c176482600bc",
   "metadata": {},
   "source": [
    "https://docs.anaconda.com/anaconda/install/"
   ]
  },
  {
   "cell_type": "markdown",
   "id": "423d784d-173f-47ad-85ca-7786f558877f",
   "metadata": {},
   "source": [
    "https://docs.python.org/3.7/tutorial/index.html"
   ]
  },
  {
   "cell_type": "markdown",
   "id": "21c4afc0-d8fc-4510-a31b-e9e81127f097",
   "metadata": {},
   "source": [
    "https://colab.research.google.com/"
   ]
  },
  {
   "cell_type": "markdown",
   "id": "9e5bd36f-2ab3-4394-b429-20f74d114747",
   "metadata": {
    "tags": []
   },
   "source": [
    "## Переменные"
   ]
  },
  {
   "cell_type": "code",
   "execution_count": 1,
   "id": "612fa04f-245d-493a-9250-335c7f1439b7",
   "metadata": {},
   "outputs": [],
   "source": [
    "a = 5"
   ]
  },
  {
   "cell_type": "code",
   "execution_count": 2,
   "id": "804eaddc-554c-4ce8-a117-b09e7696a4da",
   "metadata": {},
   "outputs": [
    {
     "data": {
      "text/plain": [
       "5"
      ]
     },
     "execution_count": 2,
     "metadata": {},
     "output_type": "execute_result"
    }
   ],
   "source": [
    "a"
   ]
  },
  {
   "cell_type": "code",
   "execution_count": 3,
   "id": "1d41d2a4-a1f1-4ace-9ccf-92d36f92f846",
   "metadata": {},
   "outputs": [
    {
     "data": {
      "text/plain": [
       "int"
      ]
     },
     "execution_count": 3,
     "metadata": {},
     "output_type": "execute_result"
    }
   ],
   "source": [
    "type(a)"
   ]
  },
  {
   "cell_type": "code",
   "execution_count": 4,
   "id": "b7821276-bd9b-4f86-aeff-618a8ff0ed53",
   "metadata": {},
   "outputs": [],
   "source": [
    "b = 1.5"
   ]
  },
  {
   "cell_type": "code",
   "execution_count": 5,
   "id": "3a85cb59-1491-4d6d-b0fc-4f5e33d05442",
   "metadata": {},
   "outputs": [
    {
     "data": {
      "text/plain": [
       "float"
      ]
     },
     "execution_count": 5,
     "metadata": {},
     "output_type": "execute_result"
    }
   ],
   "source": [
    "type(1.5)"
   ]
  },
  {
   "cell_type": "code",
   "execution_count": 6,
   "id": "dcc920c7-034b-42cc-8c70-8aae478862e1",
   "metadata": {},
   "outputs": [
    {
     "data": {
      "text/plain": [
       "str"
      ]
     },
     "execution_count": 6,
     "metadata": {},
     "output_type": "execute_result"
    }
   ],
   "source": [
    "a = 'str'\n",
    "type(a)"
   ]
  },
  {
   "cell_type": "code",
   "execution_count": 7,
   "id": "9c669852-dd14-4842-b320-f76ce74d2467",
   "metadata": {},
   "outputs": [],
   "source": [
    "a = 5"
   ]
  },
  {
   "cell_type": "code",
   "execution_count": 8,
   "id": "32514438-2f98-4142-8322-b050bd478255",
   "metadata": {},
   "outputs": [
    {
     "data": {
      "text/plain": [
       "False"
      ]
     },
     "execution_count": 8,
     "metadata": {},
     "output_type": "execute_result"
    }
   ],
   "source": [
    "a < 3"
   ]
  },
  {
   "cell_type": "code",
   "execution_count": 9,
   "id": "2e7b521f-7e3a-4c29-9a29-c4b83b490a9a",
   "metadata": {},
   "outputs": [
    {
     "data": {
      "text/plain": [
       "True"
      ]
     },
     "execution_count": 9,
     "metadata": {},
     "output_type": "execute_result"
    }
   ],
   "source": [
    "a == 5"
   ]
  },
  {
   "cell_type": "code",
   "execution_count": 12,
   "id": "8436a6e1-97b1-4dda-b039-aa28b5869984",
   "metadata": {},
   "outputs": [
    {
     "data": {
      "text/plain": [
       "True"
      ]
     },
     "execution_count": 12,
     "metadata": {},
     "output_type": "execute_result"
    }
   ],
   "source": [
    "a = 'str'\n",
    "\n",
    "a in 'string' or 'integer'"
   ]
  },
  {
   "cell_type": "markdown",
   "id": "274a925f-f2ad-4c37-bd5b-471aa3b1db3d",
   "metadata": {},
   "source": [
    "## Конструкции if-else"
   ]
  },
  {
   "cell_type": "code",
   "execution_count": 15,
   "id": "e3849c0b-b7b4-4528-999e-d94bb46c4e02",
   "metadata": {},
   "outputs": [],
   "source": [
    "a = 5"
   ]
  },
  {
   "cell_type": "code",
   "execution_count": 16,
   "id": "b69d9ad7-3330-4fcd-b1f0-0a239de733c0",
   "metadata": {},
   "outputs": [
    {
     "name": "stdout",
     "output_type": "stream",
     "text": [
      "Five!\n"
     ]
    }
   ],
   "source": [
    "if a == 10:\n",
    "    print('Ten!')\n",
    "elif a == 'str':\n",
    "    print('str!')\n",
    "elif a == 5:\n",
    "    print('Five!')\n",
    "else:\n",
    "    print('Hello world!')"
   ]
  },
  {
   "cell_type": "markdown",
   "id": "6f7183fe-9f52-4801-98dd-676c34c7a859",
   "metadata": {
    "tags": []
   },
   "source": [
    "## Список - list"
   ]
  },
  {
   "cell_type": "code",
   "execution_count": 20,
   "id": "7c0e0410-a096-4ff9-abd9-617a7e967d4c",
   "metadata": {},
   "outputs": [],
   "source": [
    "l = [1, 2, 3, 'Harry Potter', 'a', 'b', 'c']"
   ]
  },
  {
   "cell_type": "code",
   "execution_count": 18,
   "id": "a07eaaf5-0577-4ae9-83ea-c9cdfc4778bf",
   "metadata": {},
   "outputs": [
    {
     "data": {
      "text/plain": [
       "list"
      ]
     },
     "execution_count": 18,
     "metadata": {},
     "output_type": "execute_result"
    }
   ],
   "source": [
    "type(l)"
   ]
  },
  {
   "cell_type": "code",
   "execution_count": 21,
   "id": "10057f04-a2c0-40a2-8e94-d04c9b4c9bab",
   "metadata": {},
   "outputs": [
    {
     "data": {
      "text/plain": [
       "'Harry Potter'"
      ]
     },
     "execution_count": 21,
     "metadata": {},
     "output_type": "execute_result"
    }
   ],
   "source": [
    "l[3]"
   ]
  },
  {
   "cell_type": "code",
   "execution_count": 22,
   "id": "7e535470-e5ac-4432-a5ba-75bcffd4aaa2",
   "metadata": {},
   "outputs": [
    {
     "data": {
      "text/plain": [
       "['Harry Potter', 'a']"
      ]
     },
     "execution_count": 22,
     "metadata": {},
     "output_type": "execute_result"
    }
   ],
   "source": [
    "#slice\n",
    "l[3:5]"
   ]
  },
  {
   "cell_type": "code",
   "execution_count": 23,
   "id": "70f351f4-3105-4974-a9c4-0cb5c7f66c76",
   "metadata": {},
   "outputs": [
    {
     "ename": "IndexError",
     "evalue": "list index out of range",
     "output_type": "error",
     "traceback": [
      "\u001b[0;31m---------------------------------------------------------------------------\u001b[0m",
      "\u001b[0;31mIndexError\u001b[0m                                Traceback (most recent call last)",
      "\u001b[0;32m/var/folders/b6/jwrkyjdn0vj5dzwm6918d7g00000gn/T/ipykernel_87977/2604111257.py\u001b[0m in \u001b[0;36m<module>\u001b[0;34m\u001b[0m\n\u001b[0;32m----> 1\u001b[0;31m \u001b[0ml\u001b[0m\u001b[0;34m[\u001b[0m\u001b[0;36m10\u001b[0m\u001b[0;34m]\u001b[0m\u001b[0;34m\u001b[0m\u001b[0;34m\u001b[0m\u001b[0m\n\u001b[0m",
      "\u001b[0;31mIndexError\u001b[0m: list index out of range"
     ]
    }
   ],
   "source": [
    "l[10]"
   ]
  },
  {
   "cell_type": "code",
   "execution_count": 24,
   "id": "ead60e9f-01c7-4f8b-b890-f725131a744a",
   "metadata": {},
   "outputs": [
    {
     "data": {
      "text/plain": [
       "7"
      ]
     },
     "execution_count": 24,
     "metadata": {},
     "output_type": "execute_result"
    }
   ],
   "source": [
    "len(l)"
   ]
  },
  {
   "cell_type": "code",
   "execution_count": 25,
   "id": "c824abc6-205f-40fe-843b-980031758341",
   "metadata": {},
   "outputs": [
    {
     "data": {
      "text/plain": [
       "[3, 'Harry Potter', 'a', 'b', 'c']"
      ]
     },
     "execution_count": 25,
     "metadata": {},
     "output_type": "execute_result"
    }
   ],
   "source": [
    "l[2:]"
   ]
  },
  {
   "cell_type": "code",
   "execution_count": 26,
   "id": "4841dd6d-1203-4510-9a95-670a414677f3",
   "metadata": {},
   "outputs": [
    {
     "data": {
      "text/plain": [
       "[1, 2, 3, 'Harry Potter', 'a']"
      ]
     },
     "execution_count": 26,
     "metadata": {},
     "output_type": "execute_result"
    }
   ],
   "source": [
    "l[:-2]"
   ]
  },
  {
   "cell_type": "code",
   "execution_count": 27,
   "id": "2d7db301-aa64-498a-8ca9-c8e5df89de72",
   "metadata": {},
   "outputs": [
    {
     "data": {
      "text/plain": [
       "[1, 2, 3, 5, 1, 3, 4, 3, 'a', 'abc']"
      ]
     },
     "execution_count": 27,
     "metadata": {},
     "output_type": "execute_result"
    }
   ],
   "source": [
    "#слияние списков\n",
    "\n",
    "l1 = [1, 2, 3, 5]\n",
    "l2 = [1, 3, 4, 3, 'a', 'abc']\n",
    "\n",
    "l1+l2"
   ]
  },
  {
   "cell_type": "code",
   "execution_count": 28,
   "id": "02ee0ccf-86c3-4888-b7aa-ae13e9f3bf02",
   "metadata": {},
   "outputs": [
    {
     "data": {
      "text/plain": [
       "[1, 2, 3, 5, 1, 3, 4, 3, 'a', 'abc']"
      ]
     },
     "execution_count": 28,
     "metadata": {},
     "output_type": "execute_result"
    }
   ],
   "source": [
    "l1.extend(l2)\n",
    "l1"
   ]
  },
  {
   "cell_type": "code",
   "execution_count": 29,
   "id": "4e07edc2-37af-4fb5-be38-316cf4a06237",
   "metadata": {},
   "outputs": [
    {
     "data": {
      "text/plain": [
       "['1', '2', '3', 'Harry Potter', 'a', 'b', 'c']"
      ]
     },
     "execution_count": 29,
     "metadata": {},
     "output_type": "execute_result"
    }
   ],
   "source": [
    "[str(x) for x in l]"
   ]
  },
  {
   "cell_type": "code",
   "execution_count": 30,
   "id": "39a21015-10d1-4590-bf1d-486dba247bd5",
   "metadata": {},
   "outputs": [],
   "source": [
    "l = [1.5, 3, 5, 6]"
   ]
  },
  {
   "cell_type": "code",
   "execution_count": 31,
   "id": "9ad6dce0-8289-41f7-b759-5e08b469b5e0",
   "metadata": {},
   "outputs": [
    {
     "data": {
      "text/plain": [
       "[2.25, 9, 25, 36]"
      ]
     },
     "execution_count": 31,
     "metadata": {},
     "output_type": "execute_result"
    }
   ],
   "source": [
    "[x**2 for x in l]"
   ]
  },
  {
   "cell_type": "code",
   "execution_count": 32,
   "id": "d6ab133d-c637-4c51-940b-a54fed249777",
   "metadata": {},
   "outputs": [],
   "source": [
    "l = [2, 7, 1, 4, 5]"
   ]
  },
  {
   "cell_type": "code",
   "execution_count": 33,
   "id": "63240795-50ea-41c7-b4bc-4c6be5271969",
   "metadata": {},
   "outputs": [],
   "source": [
    "l.sort() "
   ]
  },
  {
   "cell_type": "code",
   "execution_count": 34,
   "id": "e26e8c51-d6a6-49e6-a7d1-74fd0fb9ba37",
   "metadata": {},
   "outputs": [
    {
     "data": {
      "text/plain": [
       "[1, 2, 4, 5, 7]"
      ]
     },
     "execution_count": 34,
     "metadata": {},
     "output_type": "execute_result"
    }
   ],
   "source": [
    "l"
   ]
  },
  {
   "cell_type": "code",
   "execution_count": 35,
   "id": "4e982087-2198-40ca-9b4d-fec960919f2d",
   "metadata": {},
   "outputs": [
    {
     "data": {
      "text/plain": [
       "4"
      ]
     },
     "execution_count": 35,
     "metadata": {},
     "output_type": "execute_result"
    }
   ],
   "source": [
    "l.index(7)"
   ]
  },
  {
   "cell_type": "code",
   "execution_count": 36,
   "id": "9afc925d-97b1-4642-8d9b-a2f98091bd08",
   "metadata": {},
   "outputs": [],
   "source": [
    "a = l.pop(4)"
   ]
  },
  {
   "cell_type": "code",
   "execution_count": 37,
   "id": "239f394c-65bb-438c-abfd-b50fd1c30c43",
   "metadata": {},
   "outputs": [
    {
     "data": {
      "text/plain": [
       "7"
      ]
     },
     "execution_count": 37,
     "metadata": {},
     "output_type": "execute_result"
    }
   ],
   "source": [
    "a"
   ]
  },
  {
   "cell_type": "code",
   "execution_count": 38,
   "id": "19a2d1c8-154b-48c0-b6ad-f50f29845e5f",
   "metadata": {},
   "outputs": [
    {
     "data": {
      "text/plain": [
       "[1, 2, 4, 5]"
      ]
     },
     "execution_count": 38,
     "metadata": {},
     "output_type": "execute_result"
    }
   ],
   "source": [
    "l"
   ]
  },
  {
   "cell_type": "markdown",
   "id": "d2447c28-7bde-421a-9bfb-12382e651979",
   "metadata": {
    "tags": []
   },
   "source": [
    "## Кортеж - tuple"
   ]
  },
  {
   "cell_type": "markdown",
   "id": "41e5f29c-76c1-4d79-8e78-a0d68d0ee611",
   "metadata": {},
   "source": [
    "tuple, list - sequence data types"
   ]
  },
  {
   "cell_type": "code",
   "execution_count": 39,
   "id": "a4c33ff6-0d54-4953-ad78-bc791c9d200e",
   "metadata": {},
   "outputs": [],
   "source": [
    "t = 'a', 'b'"
   ]
  },
  {
   "cell_type": "code",
   "execution_count": 40,
   "id": "a71877df-c2ef-4acb-b51c-d19b82e366b0",
   "metadata": {},
   "outputs": [
    {
     "data": {
      "text/plain": [
       "('a', 'b')"
      ]
     },
     "execution_count": 40,
     "metadata": {},
     "output_type": "execute_result"
    }
   ],
   "source": [
    "t"
   ]
  },
  {
   "cell_type": "code",
   "execution_count": 41,
   "id": "de181a78-52cf-4992-96f6-e5aa5bd7dcb5",
   "metadata": {},
   "outputs": [
    {
     "data": {
      "text/plain": [
       "tuple"
      ]
     },
     "execution_count": 41,
     "metadata": {},
     "output_type": "execute_result"
    }
   ],
   "source": [
    "type(t)"
   ]
  },
  {
   "cell_type": "code",
   "execution_count": 42,
   "id": "82891697-fb84-40fa-937b-6329d1ccee40",
   "metadata": {},
   "outputs": [],
   "source": [
    "t = 'a', "
   ]
  },
  {
   "cell_type": "code",
   "execution_count": 43,
   "id": "1db5fb44-6e6f-436b-99e3-0c14a69bfddf",
   "metadata": {},
   "outputs": [
    {
     "data": {
      "text/plain": [
       "('a',)"
      ]
     },
     "execution_count": 43,
     "metadata": {},
     "output_type": "execute_result"
    }
   ],
   "source": [
    "t"
   ]
  },
  {
   "cell_type": "code",
   "execution_count": 46,
   "id": "033c7164-7f7e-425e-9df4-3639d4c6a245",
   "metadata": {},
   "outputs": [
    {
     "data": {
      "text/plain": [
       "(('harry', 'potter', 'hjhjkh'), ('ron', 'weasley', 'jghjghj'))"
      ]
     },
     "execution_count": 46,
     "metadata": {},
     "output_type": "execute_result"
    }
   ],
   "source": [
    "t1 = 'harry', 'potter', 'hjhjkh'\n",
    "t2 = 'ron', 'weasley', 'jghjghj'\n",
    "\n",
    "t = t1, t2\n",
    "\n",
    "t"
   ]
  },
  {
   "cell_type": "markdown",
   "id": "7156c376-cae1-4936-ae6a-6c62111e247e",
   "metadata": {},
   "source": [
    "## Множество - set"
   ]
  },
  {
   "cell_type": "code",
   "execution_count": 47,
   "id": "5ea83604-360f-493b-9b4d-5e9a494276c1",
   "metadata": {},
   "outputs": [],
   "source": [
    "l = [2, 4, 6, 3, 5, 3]"
   ]
  },
  {
   "cell_type": "code",
   "execution_count": 48,
   "id": "74746469-8004-42f8-9482-25e82dadbe14",
   "metadata": {},
   "outputs": [],
   "source": [
    "s = set(l)"
   ]
  },
  {
   "cell_type": "code",
   "execution_count": 49,
   "id": "90706044-2d6a-41cc-b451-dcfd1d0f12c8",
   "metadata": {},
   "outputs": [
    {
     "data": {
      "text/plain": [
       "{2, 3, 4, 5, 6}"
      ]
     },
     "execution_count": 49,
     "metadata": {},
     "output_type": "execute_result"
    }
   ],
   "source": [
    "s"
   ]
  },
  {
   "cell_type": "code",
   "execution_count": 50,
   "id": "52b6c1a2-f5a3-44f9-badd-b748b64bde8b",
   "metadata": {},
   "outputs": [
    {
     "data": {
      "text/plain": [
       "5"
      ]
     },
     "execution_count": 50,
     "metadata": {},
     "output_type": "execute_result"
    }
   ],
   "source": [
    "len(s)"
   ]
  },
  {
   "cell_type": "code",
   "execution_count": 59,
   "id": "defa0e16-55fa-4028-9796-15709fa4c4be",
   "metadata": {},
   "outputs": [],
   "source": [
    "s1 = {0, 3, 4}\n",
    "s2 = {3, 5, 8}"
   ]
  },
  {
   "cell_type": "code",
   "execution_count": 60,
   "id": "bf2acb13-5121-472e-a8a4-300d3e0b1478",
   "metadata": {},
   "outputs": [
    {
     "data": {
      "text/plain": [
       "{0, 3, 4, 5, 8}"
      ]
     },
     "execution_count": 60,
     "metadata": {},
     "output_type": "execute_result"
    }
   ],
   "source": [
    "s1|s2"
   ]
  },
  {
   "cell_type": "code",
   "execution_count": 61,
   "id": "b70ba628-cdb5-4fd0-b105-ecb5dd696628",
   "metadata": {},
   "outputs": [
    {
     "data": {
      "text/plain": [
       "{0, 4}"
      ]
     },
     "execution_count": 61,
     "metadata": {},
     "output_type": "execute_result"
    }
   ],
   "source": [
    "s1 - s2"
   ]
  },
  {
   "cell_type": "code",
   "execution_count": 62,
   "id": "f59f811c-8330-4884-9c59-ed633c850dbe",
   "metadata": {},
   "outputs": [
    {
     "data": {
      "text/plain": [
       "{5, 8}"
      ]
     },
     "execution_count": 62,
     "metadata": {},
     "output_type": "execute_result"
    }
   ],
   "source": [
    "s2 - s1"
   ]
  },
  {
   "cell_type": "code",
   "execution_count": 63,
   "id": "17bccb80-75d4-43ed-adff-fae66a678f3d",
   "metadata": {},
   "outputs": [
    {
     "data": {
      "text/plain": [
       "{0, 4, 5, 8}"
      ]
     },
     "execution_count": 63,
     "metadata": {},
     "output_type": "execute_result"
    }
   ],
   "source": [
    "s1^s2"
   ]
  },
  {
   "cell_type": "code",
   "execution_count": 64,
   "id": "da887795-8b53-4df0-8984-a7eb365f3059",
   "metadata": {},
   "outputs": [
    {
     "data": {
      "text/plain": [
       "{3}"
      ]
     },
     "execution_count": 64,
     "metadata": {},
     "output_type": "execute_result"
    }
   ],
   "source": [
    "s1&s2"
   ]
  },
  {
   "cell_type": "code",
   "execution_count": 65,
   "id": "5cfb000b-6f2b-4ecf-809d-979e2551064e",
   "metadata": {},
   "outputs": [],
   "source": [
    "s.add(1)"
   ]
  },
  {
   "cell_type": "code",
   "execution_count": 66,
   "id": "74ef1899-a602-4b4f-af4a-5d9561a432df",
   "metadata": {},
   "outputs": [
    {
     "data": {
      "text/plain": [
       "{1, 2, 3, 4, 5, 6}"
      ]
     },
     "execution_count": 66,
     "metadata": {},
     "output_type": "execute_result"
    }
   ],
   "source": [
    "s"
   ]
  },
  {
   "cell_type": "code",
   "execution_count": 67,
   "id": "0edf2967-25ad-44bc-a11d-b22393089cf5",
   "metadata": {},
   "outputs": [],
   "source": [
    "s.update({2, 3, 10})"
   ]
  },
  {
   "cell_type": "code",
   "execution_count": 68,
   "id": "aac966ae-0124-4cb2-b4de-991135f8be03",
   "metadata": {},
   "outputs": [
    {
     "data": {
      "text/plain": [
       "{1, 2, 3, 4, 5, 6, 10}"
      ]
     },
     "execution_count": 68,
     "metadata": {},
     "output_type": "execute_result"
    }
   ],
   "source": [
    "s"
   ]
  },
  {
   "cell_type": "markdown",
   "id": "4343ebf4-a6bb-4616-8425-878d538a557c",
   "metadata": {},
   "source": [
    "## Словарь - dict"
   ]
  },
  {
   "cell_type": "code",
   "execution_count": 69,
   "id": "0be632bc-16e2-4a4a-b3f3-540765e6b72c",
   "metadata": {},
   "outputs": [],
   "source": [
    "d = {\n",
    "    'Harry':'Potter',\n",
    "    'Ron':'Weasley',\n",
    "    'Severus':'Snape'\n",
    "}"
   ]
  },
  {
   "cell_type": "code",
   "execution_count": 70,
   "id": "2df30adf-64fe-47ae-a5de-afbadd2dbe35",
   "metadata": {},
   "outputs": [
    {
     "data": {
      "text/plain": [
       "'Potter'"
      ]
     },
     "execution_count": 70,
     "metadata": {},
     "output_type": "execute_result"
    }
   ],
   "source": [
    "d['Harry']"
   ]
  },
  {
   "cell_type": "code",
   "execution_count": 71,
   "id": "4b5b1614-4c4d-486e-a1f7-31f1f25cfc8b",
   "metadata": {},
   "outputs": [
    {
     "data": {
      "text/plain": [
       "dict"
      ]
     },
     "execution_count": 71,
     "metadata": {},
     "output_type": "execute_result"
    }
   ],
   "source": [
    "type(d)"
   ]
  },
  {
   "cell_type": "code",
   "execution_count": 78,
   "id": "d06eda56-4dfb-4f26-aebf-437c6cba25dc",
   "metadata": {},
   "outputs": [],
   "source": [
    "names = ['Harry', 'Ron', 'Ginny']\n",
    "surnames = ['Potter', 'Weasley', 'Weasley']\n",
    "\n",
    "d = dict(zip(names, surnames))"
   ]
  },
  {
   "cell_type": "code",
   "execution_count": 73,
   "id": "dcbdcb6d-9f7b-40b2-b45b-380286674e86",
   "metadata": {},
   "outputs": [
    {
     "data": {
      "text/plain": [
       "{'Harry': 'Potter', 'Ron': 'Weasley', 'Ginny': 'Weasley'}"
      ]
     },
     "execution_count": 73,
     "metadata": {},
     "output_type": "execute_result"
    }
   ],
   "source": [
    "d"
   ]
  },
  {
   "cell_type": "code",
   "execution_count": 74,
   "id": "a9cdcd83-5d59-4300-b2d2-d7cc7d368052",
   "metadata": {},
   "outputs": [
    {
     "data": {
      "text/plain": [
       "'Weasley'"
      ]
     },
     "execution_count": 74,
     "metadata": {},
     "output_type": "execute_result"
    }
   ],
   "source": [
    "d['Ron']"
   ]
  },
  {
   "cell_type": "code",
   "execution_count": 79,
   "id": "f6a53e87-3ff4-462f-b925-4dbfa627e4ac",
   "metadata": {},
   "outputs": [],
   "source": [
    "d_add = {\n",
    "    'Molly': 'Weasley',\n",
    "    'Arthur': 'Weasley'\n",
    "}\n",
    "\n",
    "d.update(d_add)"
   ]
  },
  {
   "cell_type": "code",
   "execution_count": 80,
   "id": "951df2c5-9c26-4602-8a53-6a4ed8bd1b98",
   "metadata": {},
   "outputs": [
    {
     "data": {
      "text/plain": [
       "{'Harry': 'Potter',\n",
       " 'Ron': 'Weasley',\n",
       " 'Ginny': 'Weasley',\n",
       " 'Molly': 'Weasley',\n",
       " 'Arthur': 'Weasley'}"
      ]
     },
     "execution_count": 80,
     "metadata": {},
     "output_type": "execute_result"
    }
   ],
   "source": [
    "d"
   ]
  },
  {
   "cell_type": "code",
   "execution_count": 81,
   "id": "31d3ca1a-2859-44f0-b6c0-7bec4214da0b",
   "metadata": {},
   "outputs": [],
   "source": [
    "d['Ginny'] = 'Potter'"
   ]
  },
  {
   "cell_type": "code",
   "execution_count": 82,
   "id": "44ea4381-5371-41e9-9731-791823c0c0f0",
   "metadata": {},
   "outputs": [
    {
     "data": {
      "text/plain": [
       "{'Harry': 'Potter',\n",
       " 'Ron': 'Weasley',\n",
       " 'Ginny': 'Potter',\n",
       " 'Molly': 'Weasley',\n",
       " 'Arthur': 'Weasley'}"
      ]
     },
     "execution_count": 82,
     "metadata": {},
     "output_type": "execute_result"
    }
   ],
   "source": [
    "d"
   ]
  },
  {
   "cell_type": "code",
   "execution_count": 83,
   "id": "1bfd54b3-8963-44a9-9528-16fc4008d217",
   "metadata": {},
   "outputs": [],
   "source": [
    "d.update({\n",
    "    'Ginny': 'Weasley'\n",
    "})"
   ]
  },
  {
   "cell_type": "code",
   "execution_count": 84,
   "id": "1af632e0-ff42-4dd7-9ffc-7211c596880f",
   "metadata": {},
   "outputs": [
    {
     "data": {
      "text/plain": [
       "{'Harry': 'Potter',\n",
       " 'Ron': 'Weasley',\n",
       " 'Ginny': 'Weasley',\n",
       " 'Molly': 'Weasley',\n",
       " 'Arthur': 'Weasley'}"
      ]
     },
     "execution_count": 84,
     "metadata": {},
     "output_type": "execute_result"
    }
   ],
   "source": [
    "d"
   ]
  },
  {
   "cell_type": "code",
   "execution_count": 85,
   "id": "5670f1ce-a1f0-402e-9e91-6a97a9abdb59",
   "metadata": {},
   "outputs": [
    {
     "data": {
      "text/plain": [
       "5"
      ]
     },
     "execution_count": 85,
     "metadata": {},
     "output_type": "execute_result"
    }
   ],
   "source": [
    "len(d)"
   ]
  },
  {
   "cell_type": "code",
   "execution_count": 86,
   "id": "2e7eeaac-28a8-46d1-b4ab-4bc5ebb70a9c",
   "metadata": {},
   "outputs": [
    {
     "data": {
      "text/plain": [
       "'Weasley'"
      ]
     },
     "execution_count": 86,
     "metadata": {},
     "output_type": "execute_result"
    }
   ],
   "source": [
    "d.pop('Ron')"
   ]
  },
  {
   "cell_type": "code",
   "execution_count": 87,
   "id": "14e213f2-1bfb-4db8-a7cf-80fe070f7551",
   "metadata": {},
   "outputs": [
    {
     "data": {
      "text/plain": [
       "{'Harry': 'Potter',\n",
       " 'Ginny': 'Weasley',\n",
       " 'Molly': 'Weasley',\n",
       " 'Arthur': 'Weasley'}"
      ]
     },
     "execution_count": 87,
     "metadata": {},
     "output_type": "execute_result"
    }
   ],
   "source": [
    "d"
   ]
  },
  {
   "cell_type": "code",
   "execution_count": 88,
   "id": "d7d9d128-c6cb-4243-9be8-d49de467f111",
   "metadata": {},
   "outputs": [
    {
     "data": {
      "text/plain": [
       "('Arthur', 'Weasley')"
      ]
     },
     "execution_count": 88,
     "metadata": {},
     "output_type": "execute_result"
    }
   ],
   "source": [
    "d.popitem()"
   ]
  },
  {
   "cell_type": "code",
   "execution_count": 89,
   "id": "4e0ca822-ce55-4ffa-a922-d816551aba8b",
   "metadata": {},
   "outputs": [
    {
     "data": {
      "text/plain": [
       "{'Harry': 'Potter', 'Ginny': 'Weasley', 'Molly': 'Weasley'}"
      ]
     },
     "execution_count": 89,
     "metadata": {},
     "output_type": "execute_result"
    }
   ],
   "source": [
    "d"
   ]
  },
  {
   "cell_type": "code",
   "execution_count": 90,
   "id": "4b1af1ff-fdee-4848-8538-acae11e390ae",
   "metadata": {},
   "outputs": [
    {
     "data": {
      "text/plain": [
       "dict_keys(['Harry', 'Ginny', 'Molly'])"
      ]
     },
     "execution_count": 90,
     "metadata": {},
     "output_type": "execute_result"
    }
   ],
   "source": [
    "d.keys()"
   ]
  },
  {
   "cell_type": "code",
   "execution_count": 93,
   "id": "157ba4d5-aa32-4075-9fbf-63d46fe5870e",
   "metadata": {},
   "outputs": [
    {
     "data": {
      "text/plain": [
       "dict_values(['Potter', 'Weasley', 'Weasley'])"
      ]
     },
     "execution_count": 93,
     "metadata": {},
     "output_type": "execute_result"
    }
   ],
   "source": [
    "d.values()"
   ]
  },
  {
   "cell_type": "code",
   "execution_count": 94,
   "id": "808a758d-4062-48df-9534-afe45e1bf3c7",
   "metadata": {},
   "outputs": [
    {
     "data": {
      "text/plain": [
       "dict_items([('Harry', 'Potter'), ('Ginny', 'Weasley'), ('Molly', 'Weasley')])"
      ]
     },
     "execution_count": 94,
     "metadata": {},
     "output_type": "execute_result"
    }
   ],
   "source": [
    "d.items()"
   ]
  },
  {
   "cell_type": "markdown",
   "id": "d039677d-1f73-4870-ad31-40eca1c16c69",
   "metadata": {
    "tags": []
   },
   "source": [
    "## Циклы"
   ]
  },
  {
   "cell_type": "code",
   "execution_count": 91,
   "id": "8d41bfcb-5e09-408a-a51b-76df13c2d31b",
   "metadata": {},
   "outputs": [
    {
     "name": "stdout",
     "output_type": "stream",
     "text": [
      "Potter\n",
      "Weasley\n",
      "Weasley\n"
     ]
    }
   ],
   "source": [
    "for k in d.keys():\n",
    "    print(d[k])"
   ]
  },
  {
   "cell_type": "code",
   "execution_count": 92,
   "id": "4d77130a-147e-42a5-9af4-1df6f63febbc",
   "metadata": {},
   "outputs": [
    {
     "name": "stdout",
     "output_type": "stream",
     "text": [
      "0\n",
      "Potter\n",
      "1\n",
      "Weasley\n",
      "2\n",
      "Weasley\n"
     ]
    }
   ],
   "source": [
    "for i, k in enumerate(d.keys()):\n",
    "    print(i)\n",
    "    print(d[k])"
   ]
  },
  {
   "cell_type": "code",
   "execution_count": 95,
   "id": "5235fe71-0f8b-46f8-88a2-c946daad8f48",
   "metadata": {},
   "outputs": [
    {
     "name": "stdout",
     "output_type": "stream",
     "text": [
      "Harry Potter\n",
      "Ginny Weasley\n",
      "Molly Weasley\n"
     ]
    }
   ],
   "source": [
    "for k, v in d.items():\n",
    "    print(k, v)"
   ]
  },
  {
   "cell_type": "code",
   "execution_count": 96,
   "id": "bffb755f-326b-4ded-8ba2-627f3b1494aa",
   "metadata": {},
   "outputs": [],
   "source": [
    "l = [[0, 1, 3], [4, 6], [1, 4, 5]]\n",
    "\n",
    "l_flat = [x for y in l for x in y]"
   ]
  },
  {
   "cell_type": "code",
   "execution_count": 97,
   "id": "d90b8e5a-f2c7-4101-88a3-9691471904cc",
   "metadata": {},
   "outputs": [
    {
     "data": {
      "text/plain": [
       "[0, 1, 3, 4, 6, 1, 4, 5]"
      ]
     },
     "execution_count": 97,
     "metadata": {},
     "output_type": "execute_result"
    }
   ],
   "source": [
    "l_flat"
   ]
  },
  {
   "cell_type": "markdown",
   "id": "29d2dd1e-8d94-4c7b-9654-4bd615b64358",
   "metadata": {
    "tags": []
   },
   "source": [
    "## Некоторые операции со строками"
   ]
  },
  {
   "cell_type": "code",
   "execution_count": 98,
   "id": "fcad0bc1-886c-45d6-ab08-153ef1301bc9",
   "metadata": {},
   "outputs": [],
   "source": [
    "s = 'Hello world!'"
   ]
  },
  {
   "cell_type": "code",
   "execution_count": 99,
   "id": "f45ebe05-f2be-41c8-8dce-46f3c8ef9f31",
   "metadata": {},
   "outputs": [
    {
     "data": {
      "text/plain": [
       "'lo'"
      ]
     },
     "execution_count": 99,
     "metadata": {},
     "output_type": "execute_result"
    }
   ],
   "source": [
    "s[3: 5]"
   ]
  },
  {
   "cell_type": "code",
   "execution_count": 100,
   "id": "2b0e9686-5936-4029-b5d0-c73b85a51745",
   "metadata": {},
   "outputs": [
    {
     "data": {
      "text/plain": [
       "'H'"
      ]
     },
     "execution_count": 100,
     "metadata": {},
     "output_type": "execute_result"
    }
   ],
   "source": [
    "s[0]"
   ]
  },
  {
   "cell_type": "code",
   "execution_count": 101,
   "id": "90b51cf4-44e4-49d6-abb1-9cee805efcdf",
   "metadata": {},
   "outputs": [
    {
     "data": {
      "text/plain": [
       "'!'"
      ]
     },
     "execution_count": 101,
     "metadata": {},
     "output_type": "execute_result"
    }
   ],
   "source": [
    "s[-1]"
   ]
  },
  {
   "cell_type": "code",
   "execution_count": 102,
   "id": "fab6d583-4fe6-48ff-bee0-623fd7cf6eff",
   "metadata": {},
   "outputs": [
    {
     "data": {
      "text/plain": [
       "'Wello world!'"
      ]
     },
     "execution_count": 102,
     "metadata": {},
     "output_type": "execute_result"
    }
   ],
   "source": [
    "s.replace('H', 'W')"
   ]
  },
  {
   "cell_type": "code",
   "execution_count": 104,
   "id": "1303440e-5914-479c-b525-c73a187a916d",
   "metadata": {},
   "outputs": [
    {
     "data": {
      "text/plain": [
       "'Hello world!'"
      ]
     },
     "execution_count": 104,
     "metadata": {},
     "output_type": "execute_result"
    }
   ],
   "source": [
    "s"
   ]
  },
  {
   "cell_type": "code",
   "execution_count": 105,
   "id": "c7b65741-dcc0-4a3e-9ef1-23494c8b4215",
   "metadata": {},
   "outputs": [
    {
     "data": {
      "text/plain": [
       "0"
      ]
     },
     "execution_count": 105,
     "metadata": {},
     "output_type": "execute_result"
    }
   ],
   "source": [
    "s.find('H')"
   ]
  },
  {
   "cell_type": "code",
   "execution_count": 106,
   "id": "12e21018-8997-45f7-b067-e315da778b09",
   "metadata": {},
   "outputs": [
    {
     "data": {
      "text/plain": [
       "2"
      ]
     },
     "execution_count": 106,
     "metadata": {},
     "output_type": "execute_result"
    }
   ],
   "source": [
    "s.find('l')"
   ]
  },
  {
   "cell_type": "markdown",
   "id": "2c666c58-ee80-4759-ab69-5d9adca91812",
   "metadata": {
    "tags": []
   },
   "source": [
    "## Работа с файлами"
   ]
  },
  {
   "cell_type": "code",
   "execution_count": 107,
   "id": "cadcced5-63d0-4ecc-a316-7c74aa7af22a",
   "metadata": {},
   "outputs": [],
   "source": [
    "file_path = 'data/letter.txt'"
   ]
  },
  {
   "cell_type": "code",
   "execution_count": 113,
   "id": "93935cf8-0266-4f9d-aba7-8555b3b36a23",
   "metadata": {},
   "outputs": [],
   "source": [
    "f = open(file_path, 'r')"
   ]
  },
  {
   "cell_type": "code",
   "execution_count": 114,
   "id": "245c3a0e-4e7a-4f77-9e59-f1845f2a8b0d",
   "metadata": {},
   "outputs": [
    {
     "data": {
      "text/plain": [
       "'Я к вам пишу — чего же боле?\\nЧто я могу еще сказать?\\nТеперь, я знаю, в вашей воле\\nМеня презреньем наказать.\\nНо вы, к моей несчастной доле\\nХоть каплю жалости храня,\\nВы не оставите меня.\\nСначала я молчать хотела;\\nПоверьте: моего стыда\\nВы не узнали б никогда,\\nКогда б надежду я имела\\nХоть редко, хоть в неделю раз\\nВ деревне нашей видеть вас,\\nЧтоб только слышать ваши речи,\\nВам слово молвить, и потом\\nВсе думать, думать об одном\\nИ день и ночь до новой встречи.\\nНо, говорят, вы нелюдим;\\nВ глуши, в деревне всё вам скучно,\\nА мы… ничем мы не блестим,\\nХоть вам и рады простодушно.\\n\\nЗачем вы посетили нас?\\nВ глуши забытого селенья\\nЯ никогда не знала б вас,\\nНе знала б горького мученья.\\nДуши неопытной волненья\\nСмирив со временем (как знать?),\\nПо сердцу я нашла бы друга,\\nБыла бы верная супруга\\nИ добродетельная мать.\\n\\nДругой!.. Нет, никому на свете\\nНе отдала бы сердца я!\\nТо в вышнем суждено совете…\\nТо воля неба: я твоя;\\nВся жизнь моя была залогом\\nСвиданья верного с тобой;\\nЯ знаю, ты мне послан богом,\\nДо гроба ты хранитель мой…\\nТы в сновиденьях мне являлся,\\nНезримый, ты мне был уж мил,\\nТвой чудный взгляд меня томил,\\nВ душе твой голос раздавался\\nДавно… нет, это был не сон!\\nТы чуть вошел, я вмиг узнала,\\nВся обомлела, запылала\\nИ в мыслях молвила: вот он!\\nНе правда ль? Я тебя слыхала:\\nТы говорил со мной в тиши,\\nКогда я бедным помогала\\nИли молитвой услаждала\\nТоску волнуемой души?\\nИ в это самое мгновенье\\nНе ты ли, милое виденье,\\nВ прозрачной темноте мелькнул,\\nПриникнул тихо к изголовью?\\nНе ты ль, с отрадой и любовью,\\nСлова надежды мне шепнул?\\nКто ты, мой ангел ли хранитель,\\nИли коварный искуситель:\\nМои сомненья разреши.\\nБыть может, это все пустое,\\nОбман неопытной души!\\nИ суждено совсем иное…\\nНо так и быть! Судьбу мою\\nОтныне я тебе вручаю,\\nПеред тобою слезы лью,\\nТвоей защиты умоляю…\\nВообрази: я здесь одна,\\nНикто меня не понимает,\\nРассудок мой изнемогает,\\nИ молча гибнуть я должна.\\nЯ жду тебя: единым взором\\nНадежды сердца оживи\\nИль сон тяжелый перерви,\\nУвы, заслуженным укором!\\n\\nКончаю! Страшно перечесть…\\nСтыдом и страхом замираю…\\nНо мне порукой ваша честь,\\nИ смело ей себя вверяю…\\n\\n'"
      ]
     },
     "execution_count": 114,
     "metadata": {},
     "output_type": "execute_result"
    }
   ],
   "source": [
    "f.read()"
   ]
  },
  {
   "cell_type": "code",
   "execution_count": 115,
   "id": "72419988-5244-4306-bb2c-9715e32cbfcf",
   "metadata": {},
   "outputs": [
    {
     "data": {
      "text/plain": [
       "''"
      ]
     },
     "execution_count": 115,
     "metadata": {},
     "output_type": "execute_result"
    }
   ],
   "source": [
    "f.read()"
   ]
  },
  {
   "cell_type": "code",
   "execution_count": 116,
   "id": "9d76be89-1490-4150-ab5c-61bc7a2506b8",
   "metadata": {},
   "outputs": [],
   "source": [
    "f.close()"
   ]
  },
  {
   "cell_type": "code",
   "execution_count": 118,
   "id": "a40bbdd3-364d-4dfc-bbe8-8288eae431d5",
   "metadata": {},
   "outputs": [
    {
     "name": "stdout",
     "output_type": "stream",
     "text": [
      "Я к вам пишу — чего же боле?\n",
      "\n"
     ]
    }
   ],
   "source": [
    "with open(file_path, 'r') as f:\n",
    "    print(f.readline())"
   ]
  },
  {
   "cell_type": "code",
   "execution_count": 119,
   "id": "1f70f29d-7908-49f3-8b14-5fa9b3b57848",
   "metadata": {},
   "outputs": [
    {
     "name": "stdout",
     "output_type": "stream",
     "text": [
      "Я к\n"
     ]
    }
   ],
   "source": [
    "with open(file_path, 'r') as f:\n",
    "    print(f.read(3))"
   ]
  },
  {
   "cell_type": "code",
   "execution_count": 120,
   "id": "9053e271-8a1b-46fb-b211-ed4c4a6ceec8",
   "metadata": {},
   "outputs": [
    {
     "name": "stdout",
     "output_type": "stream",
     "text": [
      "Я к\n"
     ]
    }
   ],
   "source": [
    "with open(file_path, 'r') as f:\n",
    "    print(f.read(3))"
   ]
  },
  {
   "cell_type": "code",
   "execution_count": 122,
   "id": "e26ab3ec-a9b1-4af8-ad8f-a2d2511c555a",
   "metadata": {},
   "outputs": [],
   "source": [
    "text_lines = []\n",
    "    \n",
    "with open(file_path, 'r') as f:\n",
    "    for line in f:\n",
    "        text_lines.append(line)"
   ]
  },
  {
   "cell_type": "code",
   "execution_count": 123,
   "id": "d2519417-9ab9-4299-a035-0e3db5381dcc",
   "metadata": {},
   "outputs": [
    {
     "data": {
      "text/plain": [
       "['Я к вам пишу — чего же боле?\\n',\n",
       " 'Что я могу еще сказать?\\n',\n",
       " 'Теперь, я знаю, в вашей воле\\n',\n",
       " 'Меня презреньем наказать.\\n',\n",
       " 'Но вы, к моей несчастной доле\\n',\n",
       " 'Хоть каплю жалости храня,\\n',\n",
       " 'Вы не оставите меня.\\n',\n",
       " 'Сначала я молчать хотела;\\n',\n",
       " 'Поверьте: моего стыда\\n',\n",
       " 'Вы не узнали б никогда,\\n',\n",
       " 'Когда б надежду я имела\\n',\n",
       " 'Хоть редко, хоть в неделю раз\\n',\n",
       " 'В деревне нашей видеть вас,\\n',\n",
       " 'Чтоб только слышать ваши речи,\\n',\n",
       " 'Вам слово молвить, и потом\\n',\n",
       " 'Все думать, думать об одном\\n',\n",
       " 'И день и ночь до новой встречи.\\n',\n",
       " 'Но, говорят, вы нелюдим;\\n',\n",
       " 'В глуши, в деревне всё вам скучно,\\n',\n",
       " 'А мы… ничем мы не блестим,\\n',\n",
       " 'Хоть вам и рады простодушно.\\n',\n",
       " '\\n',\n",
       " 'Зачем вы посетили нас?\\n',\n",
       " 'В глуши забытого селенья\\n',\n",
       " 'Я никогда не знала б вас,\\n',\n",
       " 'Не знала б горького мученья.\\n',\n",
       " 'Души неопытной волненья\\n',\n",
       " 'Смирив со временем (как знать?),\\n',\n",
       " 'По сердцу я нашла бы друга,\\n',\n",
       " 'Была бы верная супруга\\n',\n",
       " 'И добродетельная мать.\\n',\n",
       " '\\n',\n",
       " 'Другой!.. Нет, никому на свете\\n',\n",
       " 'Не отдала бы сердца я!\\n',\n",
       " 'То в вышнем суждено совете…\\n',\n",
       " 'То воля неба: я твоя;\\n',\n",
       " 'Вся жизнь моя была залогом\\n',\n",
       " 'Свиданья верного с тобой;\\n',\n",
       " 'Я знаю, ты мне послан богом,\\n',\n",
       " 'До гроба ты хранитель мой…\\n',\n",
       " 'Ты в сновиденьях мне являлся,\\n',\n",
       " 'Незримый, ты мне был уж мил,\\n',\n",
       " 'Твой чудный взгляд меня томил,\\n',\n",
       " 'В душе твой голос раздавался\\n',\n",
       " 'Давно… нет, это был не сон!\\n',\n",
       " 'Ты чуть вошел, я вмиг узнала,\\n',\n",
       " 'Вся обомлела, запылала\\n',\n",
       " 'И в мыслях молвила: вот он!\\n',\n",
       " 'Не правда ль? Я тебя слыхала:\\n',\n",
       " 'Ты говорил со мной в тиши,\\n',\n",
       " 'Когда я бедным помогала\\n',\n",
       " 'Или молитвой услаждала\\n',\n",
       " 'Тоску волнуемой души?\\n',\n",
       " 'И в это самое мгновенье\\n',\n",
       " 'Не ты ли, милое виденье,\\n',\n",
       " 'В прозрачной темноте мелькнул,\\n',\n",
       " 'Приникнул тихо к изголовью?\\n',\n",
       " 'Не ты ль, с отрадой и любовью,\\n',\n",
       " 'Слова надежды мне шепнул?\\n',\n",
       " 'Кто ты, мой ангел ли хранитель,\\n',\n",
       " 'Или коварный искуситель:\\n',\n",
       " 'Мои сомненья разреши.\\n',\n",
       " 'Быть может, это все пустое,\\n',\n",
       " 'Обман неопытной души!\\n',\n",
       " 'И суждено совсем иное…\\n',\n",
       " 'Но так и быть! Судьбу мою\\n',\n",
       " 'Отныне я тебе вручаю,\\n',\n",
       " 'Перед тобою слезы лью,\\n',\n",
       " 'Твоей защиты умоляю…\\n',\n",
       " 'Вообрази: я здесь одна,\\n',\n",
       " 'Никто меня не понимает,\\n',\n",
       " 'Рассудок мой изнемогает,\\n',\n",
       " 'И молча гибнуть я должна.\\n',\n",
       " 'Я жду тебя: единым взором\\n',\n",
       " 'Надежды сердца оживи\\n',\n",
       " 'Иль сон тяжелый перерви,\\n',\n",
       " 'Увы, заслуженным укором!\\n',\n",
       " '\\n',\n",
       " 'Кончаю! Страшно перечесть…\\n',\n",
       " 'Стыдом и страхом замираю…\\n',\n",
       " 'Но мне порукой ваша честь,\\n',\n",
       " 'И смело ей себя вверяю…\\n',\n",
       " '\\n']"
      ]
     },
     "execution_count": 123,
     "metadata": {},
     "output_type": "execute_result"
    }
   ],
   "source": [
    "text_lines"
   ]
  },
  {
   "cell_type": "markdown",
   "id": "21a32659-0002-479a-98cb-3d782fb9c17c",
   "metadata": {
    "tags": []
   },
   "source": [
    "### Задание: подсчет частоты слов в файле"
   ]
  },
  {
   "cell_type": "code",
   "execution_count": null,
   "id": "37bcd2f4-6711-4c35-a11e-036b1bf27a76",
   "metadata": {},
   "outputs": [],
   "source": []
  },
  {
   "cell_type": "code",
   "execution_count": null,
   "id": "3ef47ef1-634f-451d-98ab-49ccff00751d",
   "metadata": {},
   "outputs": [],
   "source": []
  },
  {
   "cell_type": "code",
   "execution_count": null,
   "id": "d4e3c1d3-0cce-4c49-981a-b7ef5676a1e9",
   "metadata": {},
   "outputs": [],
   "source": []
  },
  {
   "cell_type": "markdown",
   "id": "a3a5842e-318a-4147-ae0f-25c7f0618cf2",
   "metadata": {
    "tags": []
   },
   "source": [
    "### Задача: дана последовательность из 0 и 1. Нужно посчитать длину максимальной подпоследовательности из единиц"
   ]
  },
  {
   "cell_type": "code",
   "execution_count": null,
   "id": "364b377e-221a-4da2-87a9-5d0f124165ac",
   "metadata": {},
   "outputs": [],
   "source": []
  },
  {
   "cell_type": "code",
   "execution_count": null,
   "id": "c7038a26-2cd4-4cd3-983f-465fedad5877",
   "metadata": {},
   "outputs": [],
   "source": []
  }
 ],
 "metadata": {
  "kernelspec": {
   "display_name": "Python 3 (ipykernel)",
   "language": "python",
   "name": "python3"
  },
  "language_info": {
   "codemirror_mode": {
    "name": "ipython",
    "version": 3
   },
   "file_extension": ".py",
   "mimetype": "text/x-python",
   "name": "python",
   "nbconvert_exporter": "python",
   "pygments_lexer": "ipython3",
   "version": "3.9.13"
  }
 },
 "nbformat": 4,
 "nbformat_minor": 5
}
